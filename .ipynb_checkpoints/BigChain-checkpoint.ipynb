{
 "cells": [
  {
   "cell_type": "markdown",
   "metadata": {},
   "source": [
    "## Testing"
   ]
  },
  {
   "cell_type": "code",
   "execution_count": null,
   "metadata": {
    "collapsed": true
   },
   "outputs": [],
   "source": [
    "from bigchaindb_driver import BigchainDB\n",
    "from bigchaindb_driver.crypto import generate_keypair\n",
    "\n",
    "import json"
   ]
  },
  {
   "cell_type": "code",
   "execution_count": null,
   "metadata": {
    "collapsed": true
   },
   "outputs": [],
   "source": [
    "BDG_ROOT_URL = '35.157.161.130'\n",
    "BDB_URL_PORT = 9984\n",
    "bdb = BigchainDB('http://{}:{}'.format(BDG_ROOT_URL, BDB_URL_PORT))"
   ]
  },
  {
   "cell_type": "code",
   "execution_count": null,
   "metadata": {
    "collapsed": true
   },
   "outputs": [],
   "source": [
    "ciu1 = generate_keypair()\n",
    "ciu2 = generate_keypair()\n",
    "org  = generate_keypair()"
   ]
  },
  {
   "cell_type": "markdown",
   "metadata": {},
   "source": [
    "## ciu1 vota:"
   ]
  },
  {
   "cell_type": "code",
   "execution_count": null,
   "metadata": {},
   "outputs": [],
   "source": [
    "# construccion del asset\n",
    "payload = {\n",
    "    'data': {\n",
    "        'vote': {\n",
    "            # lo que hay aqui se puede cambiar\n",
    "            'identifier': 'question_14102017',\n",
    "            'manufacturer': True,\n",
    "        },\n",
    "    }, \n",
    "}\n",
    "\n",
    "tx = bdb.transactions.prepare(\n",
    "        operation='CREATE',\n",
    "        signers=ciu1.public_key,\n",
    "        asset=payload,\n",
    ")\n",
    "signed_tx = bdb.transactions.fulfill(tx, private_keys=ciu1.private_key)\n",
    "sent_tx = bdb.transactions.send(signed_tx)"
   ]
  },
  {
   "cell_type": "code",
   "execution_count": null,
   "metadata": {},
   "outputs": [],
   "source": [
    "bdb.transactions.retrieve(tx['id'])"
   ]
  },
  {
   "cell_type": "code",
   "execution_count": null,
   "metadata": {
    "collapsed": true
   },
   "outputs": [],
   "source": [
    "# construct the input\n",
    "output_index = 0\n",
    "output = tx['outputs'][output_index] # usamos la transaccion anterior\n",
    "input_ = {\n",
    "    'fulfillment': output['condition']['details'],\n",
    "    'fulfills': {\n",
    "        'output_index': output_index,\n",
    "        'transaction_id': tx['id'],\n",
    "    },\n",
    "    'owners_before': output['public_keys'],\n",
    "}"
   ]
  },
  {
   "cell_type": "code",
   "execution_count": null,
   "metadata": {
    "collapsed": true
   },
   "outputs": [],
   "source": [
    "# buil the transfer asset\n",
    "transfer_asset_id = tx['id']\n",
    "transfer_asset = {\n",
    "    'id': transfer_asset_id,\n",
    "}"
   ]
  },
  {
   "cell_type": "code",
   "execution_count": null,
   "metadata": {
    "collapsed": true
   },
   "outputs": [],
   "source": [
    "# transfer preparation\n",
    "tx_transfer = bdb.transactions.prepare(\n",
    "    operation='TRANSFER',\n",
    "    inputs=input_,\n",
    "    asset=transfer_asset,\n",
    "    recipients=ciu2.public_key,\n",
    ")"
   ]
  },
  {
   "cell_type": "code",
   "execution_count": null,
   "metadata": {
    "collapsed": true
   },
   "outputs": [],
   "source": [
    "# transfer fulfilling\n",
    "signed_tx_transfer = bdb.transactions.fulfill(\n",
    "    tx_transfer,\n",
    "    private_keys=ciu1.private_key,\n",
    ")"
   ]
  },
  {
   "cell_type": "code",
   "execution_count": null,
   "metadata": {},
   "outputs": [],
   "source": [
    "# finally send the transaction to the chainblock\n",
    "sent_tx_transfer = bdb.transactions.send(signed_tx_transfer)"
   ]
  },
  {
   "cell_type": "code",
   "execution_count": null,
   "metadata": {},
   "outputs": [],
   "source": [
    "all_assets = bdb.assets.get(search=\"question_14102017\")"
   ]
  },
  {
   "cell_type": "code",
   "execution_count": null,
   "metadata": {},
   "outputs": [],
   "source": [
    "all_assets"
   ]
  },
  {
   "cell_type": "code",
   "execution_count": null,
   "metadata": {},
   "outputs": [],
   "source": [
    "bdb.transactions.get(asset_id='d5729040181e3a069d84f4da89341f536e567fafa8c8a7eda28c5662248b08ec', operation='TRANSFER')"
   ]
  },
  {
   "cell_type": "code",
   "execution_count": null,
   "metadata": {},
   "outputs": [],
   "source": [
    "ciu1.public_key"
   ]
  },
  {
   "cell_type": "code",
   "execution_count": null,
   "metadata": {},
   "outputs": [],
   "source": [
    "org.public_key"
   ]
  },
  {
   "cell_type": "markdown",
   "metadata": {},
   "source": [
    "## ciu2 vota:"
   ]
  },
  {
   "cell_type": "code",
   "execution_count": null,
   "metadata": {
    "collapsed": true
   },
   "outputs": [],
   "source": [
    "payload = {\n",
    "    'data': {\n",
    "        'vote': {\n",
    "            # lo que hay aqui se puede cambiar\n",
    "            'identifier': 'question_14102017',\n",
    "            'manufacturer': True,\n",
    "        },\n",
    "    }, \n",
    "}\n",
    "\n",
    "tx = bdb.transactions.prepare(\n",
    "        operation='CREATE',\n",
    "        signers=ciu1.public_key,\n",
    "        asset=payload,\n",
    ")\n",
    "signed_tx = bdb.transactions.fulfill(tx, private_keys=ciu1.private_key)\n",
    "sent_tx = bdb.transactions.send(signed_tx)"
   ]
  }
 ],
 "metadata": {
  "kernelspec": {
   "display_name": "Python 3",
   "language": "python",
   "name": "python3"
  },
  "language_info": {
   "codemirror_mode": {
    "name": "ipython",
    "version": 3
   },
   "file_extension": ".py",
   "mimetype": "text/x-python",
   "name": "python",
   "nbconvert_exporter": "python",
   "pygments_lexer": "ipython3",
   "version": "3.6.2"
  }
 },
 "nbformat": 4,
 "nbformat_minor": 2
}
