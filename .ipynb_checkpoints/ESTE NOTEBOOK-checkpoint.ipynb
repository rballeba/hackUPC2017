{
 "cells": [
  {
   "cell_type": "code",
   "execution_count": 15,
   "metadata": {},
   "outputs": [],
   "source": [
    "from bigchaindb_driver import BigchainDB\n",
    "from bigchaindb_driver.crypto import generate_keypair\n",
    "\n",
    "import json"
   ]
  },
  {
   "cell_type": "code",
   "execution_count": 16,
   "metadata": {
    "collapsed": true
   },
   "outputs": [],
   "source": [
    "BDG_ROOT_URL = '35.157.161.130'\n",
    "BDB_URL_PORT = 9984\n",
    "bdb = BigchainDB('http://{}:{}'.format(BDG_ROOT_URL, BDB_URL_PORT))"
   ]
  },
  {
   "cell_type": "markdown",
   "metadata": {},
   "source": [
    "## Creacion de Assets"
   ]
  },
  {
   "cell_type": "code",
   "execution_count": 17,
   "metadata": {
    "collapsed": true
   },
   "outputs": [],
   "source": [
    "# Alice es un usuario definido por un par de claves\n",
    "alice = generate_keypair()"
   ]
  },
  {
   "cell_type": "code",
   "execution_count": 18,
   "metadata": {
    "collapsed": true
   },
   "outputs": [],
   "source": [
    "# Alice's bike\n",
    "bicycle = {\n",
    "    'data': {\n",
    "        'bicycle': {\n",
    "            # lo que hay aqui se puede cambiar\n",
    "            'serial_number': 'abcd1234',\n",
    "            'manufacturer': 'bkfab',\n",
    "        },\n",
    "    }, \n",
    "}"
   ]
  },
  {
   "cell_type": "code",
   "execution_count": 19,
   "metadata": {},
   "outputs": [],
   "source": [
    "# Creacion del asset\n",
    "\n",
    "# create asset\n",
    "prepared_creation_tx = bdb.transactions.prepare(\n",
    "        operation='CREATE',\n",
    "        signers=alice.public_key,\n",
    "        asset=bicycle,\n",
    ")\n",
    "\n",
    "fulfilled_creation_tx = bdb.transactions.fulfill(\n",
    "    prepared_creation_tx, \n",
    "    private_keys=alice.private_key, # signed with private key\n",
    ")\n",
    "\n",
    "# send asset\n",
    "sent_creation_tx = bdb.transactions.send(fulfilled_creation_tx)\n",
    "\n",
    "txid = fulfilled_creation_tx['id'] # id de la transaccion"
   ]
  },
  {
   "cell_type": "code",
   "execution_count": 21,
   "metadata": {},
   "outputs": [],
   "source": [
    "creation_tx = bdb.transactions.retrieve(txid)"
   ]
  },
  {
   "cell_type": "code",
   "execution_count": 24,
   "metadata": {},
   "outputs": [
    {
     "data": {
      "text/plain": [
       "'FEhWYLtZjn9DbHyFxZGrhNppVtJSpK5bExKiMVPYooxq'"
      ]
     },
     "execution_count": 24,
     "metadata": {},
     "output_type": "execute_result"
    }
   ],
   "source": [
    "alice.public_key"
   ]
  },
  {
   "cell_type": "code",
   "execution_count": 27,
   "metadata": {},
   "outputs": [
    {
     "data": {
      "text/plain": [
       "True"
      ]
     },
     "execution_count": 27,
     "metadata": {},
     "output_type": "execute_result"
    }
   ],
   "source": [
    "# Alice is the owner\n",
    "creation_tx['outputs'][0]['public_keys'][0] == alice.public_key"
   ]
  },
  {
   "cell_type": "code",
   "execution_count": 28,
   "metadata": {},
   "outputs": [
    {
     "data": {
      "text/plain": [
       "[{'data': {'bicycle': {'manufacturer': 'bkfab', 'serial_number': 'abcd1234'}},\n",
       "  'id': '368c05a467e89f529a32dcccbc265fab8447f953c3f450107a9231362fa044fc'},\n",
       " {'data': {'bicycle': {'manufacturer': 'bkfab', 'serial_number': 'abcd1234'}},\n",
       "  'id': 'a07fc3d64fb70a2d317eb5f194e666d9c9ab7396f81f43aaf39357c0b30f48a3'}]"
      ]
     },
     "execution_count": 28,
     "metadata": {},
     "output_type": "execute_result"
    }
   ],
   "source": [
    "# Buscar bicis por serial number:\n",
    "bdb.assets.get(search=\"abcd1234\")"
   ]
  },
  {
   "cell_type": "markdown",
   "metadata": {},
   "source": [
    "## Transferencia de Assets"
   ]
  },
  {
   "cell_type": "code",
   "execution_count": null,
   "metadata": {
    "collapsed": true
   },
   "outputs": [],
   "source": [
    "# TODO"
   ]
  }
 ],
 "metadata": {
  "kernelspec": {
   "display_name": "Python 3",
   "language": "python",
   "name": "python3"
  },
  "language_info": {
   "codemirror_mode": {
    "name": "ipython",
    "version": 3
   },
   "file_extension": ".py",
   "mimetype": "text/x-python",
   "name": "python",
   "nbconvert_exporter": "python",
   "pygments_lexer": "ipython3",
   "version": "3.6.2"
  }
 },
 "nbformat": 4,
 "nbformat_minor": 2
}
