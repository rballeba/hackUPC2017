{
 "cells": [
  {
   "cell_type": "code",
   "execution_count": null,
   "metadata": {
    "collapsed": true
   },
   "outputs": [],
   "source": [
    "from bigchaindb_driver import BigchainDB\n",
    "from bigchaindb_driver.crypto import generate_keypair\n",
    "import base64\n",
    "import hashlib\n",
    "import time"
   ]
  },
  {
   "cell_type": "code",
   "execution_count": null,
   "metadata": {
    "collapsed": true
   },
   "outputs": [],
   "source": [
    "BDG_ROOT_URL = '35.157.161.130'\n",
    "BDB_URL_PORT = 9984\n",
    "bdb = BigchainDB('http://{}:{}'.format(BDG_ROOT_URL, BDB_URL_PORT))"
   ]
  },
  {
   "cell_type": "markdown",
   "metadata": {},
   "source": [
    "## Organizacion crea pregunta"
   ]
  },
  {
   "cell_type": "code",
   "execution_count": null,
   "metadata": {
    "collapsed": true
   },
   "outputs": [],
   "source": [
    "def to_url(q):\n",
    "    base64_q = base64.b64encode(bytes(q['question'], 'utf-8')).decode('utf-8')\n",
    "    return '-'.join([q['orgid'], base64_q, str(q['date'])])\n",
    "\n",
    "def from_url(url):\n",
    "    id_, q, d = url.split('-')\n",
    "    return {\n",
    "        'question': base64.b64decode(bytes(q, 'utf-8')).decode('utf-8'),\n",
    "        'date': d,\n",
    "        'orgid': id_,\n",
    "    }\n",
    "    \n",
    "def q_hash(q):\n",
    "    return hash((q['question'], q['date'], q['orgid']))\n",
    "\n",
    "def create_vote(bdb, org, payload):\n",
    "    # preparar la transacion\n",
    "    tx = bdb.transactions.prepare(\n",
    "        operation='CREATE',\n",
    "        signers=org.public_key,\n",
    "        asset=payload\n",
    "    )\n",
    "    \n",
    "    # signing\n",
    "    signed_tx = bdb.transactions.fulfill(\n",
    "        tx,\n",
    "        private_keys=org.private_key\n",
    "    )\n",
    "    \n",
    "    # sending\n",
    "    sent_tx = bdb.transactions.send(signed_tx)\n",
    "    return sent_tx\n",
    "\n",
    "def retrieve_vote(bdb, id_):\n",
    "    return bdb.transactions.retrieve(id_)\n",
    "\n",
    "def transfer(bdb, from_, to, tx):\n",
    "    output_index = 0\n",
    "    output = tx['outputs'][output_index]\n",
    "    input_ = {\n",
    "        'fulfillment': output['condition']['details'],\n",
    "        'fulfills' : {\n",
    "            'output_index': output_index,\n",
    "            'transaction_id': tx['id']\n",
    "        },\n",
    "        'owners_before': output['public_keys']\n",
    "    }\n",
    "    \n",
    "    transfer_asset = {\n",
    "        'id': tx['id']\n",
    "    }\n",
    "    \n",
    "    tx_transfer = bdb.transactions.prepare(\n",
    "        operation='TRANSFER',\n",
    "        inputs=input_,\n",
    "        asset=transfer_asset,\n",
    "        recipients=to\n",
    "    )\n",
    "    \n",
    "    signed_tx_transfer = bdb.transactions.fulfill(\n",
    "        tx_transfer,\n",
    "        private_keys=from_.private_key\n",
    "    )\n",
    "    \n",
    "    bdb.transactions.send(signed_tx_transfer)\n",
    "    \n",
    "    return signed_tx_transfer"
   ]
  },
  {
   "cell_type": "code",
   "execution_count": null,
   "metadata": {
    "collapsed": true
   },
   "outputs": [],
   "source": [
    "def vote_token(question, voter_public_key):\n",
    "    return {\n",
    "        'data': {\n",
    "            'token_for': {\n",
    "                'vote': {\n",
    "                    'identifier': ''.join(question.values()).strip(),\n",
    "                    'org': org.public_key,\n",
    "                    'voter': voter_public_key\n",
    "                }\n",
    "            }\n",
    "        }\n",
    "    }"
   ]
  },
  {
   "cell_type": "code",
   "execution_count": null,
   "metadata": {
    "collapsed": true
   },
   "outputs": [],
   "source": [
    "def give_tokens(bdb, fr, to_public_key, question):\n",
    "    prepared_token_tx = bdb.transactions.prepare(\n",
    "        operation='CREATE',\n",
    "        signers=org.public_key,\n",
    "        recipients=[([u1.public_key],3)],\n",
    "        asset=vote_token(question, to_public_key),\n",
    "    )\n",
    "    \n",
    "    fulfilled_token_tx = bdb.transactions.fulfill(\n",
    "        prepared_token_tx,\n",
    "        private_keys=org.private_key\n",
    "    )\n",
    "    \n",
    "    send_token_tx = bdb.transactions.send(fulfilled_token_tx)\n",
    "    return send_token_tx"
   ]
  },
  {
   "cell_type": "code",
   "execution_count": null,
   "metadata": {
    "collapsed": true
   },
   "outputs": [],
   "source": [
    "def vote(bdb, voter, org_public_key, question_id, val):\n",
    "    # primero encontramos el asset\n",
    "    assets = bdb.assets.get(search=question_id)\n",
    "    asset = next(x for x in assets \n",
    "            if x['data']['token_for']['vote']['voter']==voter.public_key)\n",
    "    \n",
    "    asset_id = asset['id']\n",
    "    \n",
    "    # a partir del asset se consigue la contraseña\n",
    "    txs = bdb.transactions.get(asset_id=asset_id)\n",
    "    tx = next(x for x in txs\n",
    "              if x['asset']['data']['token_for']['vote']['org']==org_public_key)\n",
    "\n",
    "    output_index = 0\n",
    "    output = tx['outputs'][output_index]\n",
    "\n",
    "    transfer_input = {\n",
    "        'fulfillment': output['condition']['details'],\n",
    "        'fulfills' : {\n",
    "            'output_index': output_index,\n",
    "            'transaction_id': tx['id'],\n",
    "        },\n",
    "        'owners_before': output['public_keys'],\n",
    "    }\n",
    "\n",
    "    transfer_asset = {\n",
    "        'id': tx['id']\n",
    "    }\n",
    "\n",
    "    prepared_transfer_tx = bdb.transactions.prepare(\n",
    "        operation='TRANSFER',\n",
    "        asset=transfer_asset,\n",
    "        inputs=transfer_input,\n",
    "        recipients=[([org.public_key], 1+val), ([u1.public_key],2-val)]\n",
    "    )\n",
    "\n",
    "    fulfilled_transfer_fx = bdb.transactions.fulfill(\n",
    "        prepared_transfer_tx,\n",
    "        private_keys=u1.private_key\n",
    "    )\n",
    "    \n",
    "    sent_transfer_tx = bdb.transactions.send(fulfilled_transfer_fx)\n",
    "    return sent_transfer_tx"
   ]
  },
  {
   "cell_type": "code",
   "execution_count": null,
   "metadata": {
    "collapsed": true
   },
   "outputs": [],
   "source": [
    "def count_votes(bdb, org, question_id, census):\n",
    "    c = set(census)\n",
    "    assets = bdb.assets.get(search=question_id)\n",
    "    # filtrdao de assets\n",
    "    assets = [x for x in assets\n",
    "                if x['data']['token_for']['vote']['org']==org.public_key]\n",
    "    \n",
    "    txs = []\n",
    "    for asset in assets:\n",
    "        lst = bdb.transactions.get(asset_id=asset['id'])\n",
    "\n",
    "        # filtramos los resultados incorrectos\n",
    "        lst = [x for x in lst\n",
    "                if len(x['outputs']) > 1 and x['outputs'][1]['public_keys'][0] in census]\n",
    "\n",
    "        txs += lst\n",
    "        \n",
    "    #return txs\n",
    "    n_votes = len(txs)\n",
    "    for_ = len([x for x in txs if x['outputs'][0]['amount'] == '2'])\n",
    "    against = len([x for x in txs if x['outputs'][0]['amount'] == '1'])\n",
    "    return {\n",
    "        'votes': n_votes,\n",
    "        'votes_for': for_,\n",
    "        'votes_against': against,\n",
    "    }"
   ]
  },
  {
   "cell_type": "code",
   "execution_count": null,
   "metadata": {
    "collapsed": true
   },
   "outputs": [],
   "source": [
    "question = {\n",
    "    'q': 'f',\n",
    "    'd': '1',\n",
    "}"
   ]
  },
  {
   "cell_type": "code",
   "execution_count": null,
   "metadata": {},
   "outputs": [],
   "source": [
    "assets = bdb.assets.get(search='f1')\n",
    "assets"
   ]
  },
  {
   "cell_type": "code",
   "execution_count": null,
   "metadata": {
    "collapsed": true
   },
   "outputs": [],
   "source": [
    "org = generate_keypair()\n",
    "u1  = generate_keypair()\n",
    "u2 = generate_keypair()\n",
    "u3 = generate_keypair()\n",
    "census = [u1.public_key, u2.public_key, u3.public_key]"
   ]
  },
  {
   "cell_type": "code",
   "execution_count": null,
   "metadata": {
    "collapsed": true
   },
   "outputs": [],
   "source": [
    "stx = give_tokens(bdb, org, u1.public_key, question)\n",
    "stx = give_tokens(bdb, org, u2.public_key, question)\n",
    "stx = give_tokens(bdb, org, u3.public_key, question)"
   ]
  },
  {
   "cell_type": "code",
   "execution_count": null,
   "metadata": {
    "scrolled": true
   },
   "outputs": [],
   "source": [
    "vote(bdb, u1, org.public_key, 'f1', 1)\n",
    "vote(bdb, u2, org.public_key, 'f1', 0)\n",
    "vote(bdb, u3, org.public_key, 'f1', 1)"
   ]
  },
  {
   "cell_type": "code",
   "execution_count": null,
   "metadata": {
    "scrolled": true
   },
   "outputs": [],
   "source": [
    "count_votes(bdb, org, 'f1', census)"
   ]
  }
 ],
 "metadata": {
  "kernelspec": {
   "display_name": "Python 3",
   "language": "python",
   "name": "python3"
  },
  "language_info": {
   "codemirror_mode": {
    "name": "ipython",
    "version": 3
   },
   "file_extension": ".py",
   "mimetype": "text/x-python",
   "name": "python",
   "nbconvert_exporter": "python",
   "pygments_lexer": "ipython3",
   "version": "3.6.2"
  }
 },
 "nbformat": 4,
 "nbformat_minor": 2
}
