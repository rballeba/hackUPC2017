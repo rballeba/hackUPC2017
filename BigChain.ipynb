{
 "cells": [
  {
   "cell_type": "markdown",
   "metadata": {},
   "source": [
    "## Testing"
   ]
  },
  {
   "cell_type": "code",
   "execution_count": 1,
   "metadata": {},
   "outputs": [],
   "source": [
    "from bigchaindb_driver import BigchainDB\n",
    "from bigchaindb_driver.crypto import generate_keypair\n",
    "\n",
    "import json"
   ]
  },
  {
   "cell_type": "code",
   "execution_count": 2,
   "metadata": {},
   "outputs": [],
   "source": [
    "BDG_ROOT_URL = '35.157.161.130'\n",
    "BDB_URL_PORT = 9984\n",
    "bdb = BigchainDB('http://{}:{}'.format(BDG_ROOT_URL, BDB_URL_PORT))"
   ]
  },
  {
   "cell_type": "code",
   "execution_count": 3,
   "metadata": {},
   "outputs": [],
   "source": [
    "ciu1 = generate_keypair()\n",
    "ciu2 = generate_keypair()\n",
    "org  = generate_keypair()"
   ]
  },
  {
   "cell_type": "markdown",
   "metadata": {},
   "source": [
    "## ciu1 vota:"
   ]
  },
  {
   "cell_type": "code",
   "execution_count": 35,
   "metadata": {},
   "outputs": [
    {
     "name": "stdout",
     "output_type": "stream",
     "text": [
      "966c9db674593ba01c3233c1ddd66de7356d46eee938ecd1773685ea700b3e7c\n"
     ]
    }
   ],
   "source": [
    "\n",
    "    \n",
    "# construccion del asset\n",
    "payload = {\n",
    "    'data': {\n",
    "        'vote': {\n",
    "            # lo que hay aqui se puede cambiar\n",
    "            'identifier': 'question_14102017',\n",
    "            'manufacturer': True,\n",
    "        },\n",
    "    }, \n",
    "}\n",
    "\n",
    "tx = bdb.transactions.prepare(\n",
    "        operation='CREATE',\n",
    "        signers=ciu1.public_key,\n",
    "        asset=payload,\n",
    ")\n",
    "signed_tx = bdb.transactions.fulfill(tx, private_keys=ciu1.private_key)\n",
    "sent_tx = bdb.transactions.send(signed_tx)\n",
    "\n",
    "print(sent_tx['id'])\n",
    "#print(payload['id'])"
   ]
  },
  {
   "cell_type": "code",
   "execution_count": 33,
   "metadata": {},
   "outputs": [
    {
     "data": {
      "text/plain": [
       "'print(tx_id)\\nprint(\"========\")\\nprint(bdb.transactions.status(tx_id))\\nprint(\"========\")\\nprint(signed_tx)\\nprint(\"========\")\\nprint(signed_tx[\\'asset\\'][\\'data\\'])\\nprint(\"========\")\\nprint(signed_tx[\\'version\\'])\\nprint(\"========\")\\nprint(signed_tx[\\'asset\\'])\\nprint(\"========\")\\nprint(tx[\\'outputs\\'][0])'"
      ]
     },
     "execution_count": 33,
     "metadata": {},
     "output_type": "execute_result"
    }
   ],
   "source": [
    "sent_creation_tx = bdb.transactions.send(signed_tx)\n",
    "sent_creation_tx == signed_tx\n",
    "tx_id =  signed_tx['id']\n",
    "\"\"\"print(tx_id)\n",
    "print(\"========\")\n",
    "print(bdb.transactions.status(tx_id))\n",
    "print(\"========\")\n",
    "print(signed_tx)\n",
    "print(\"========\")\n",
    "print(signed_tx['asset']['data'])\n",
    "print(\"========\")\n",
    "print(signed_tx['version'])\n",
    "print(\"========\")\n",
    "print(signed_tx['asset'])\n",
    "print(\"========\")\n",
    "print(tx['outputs'][0])\"\"\""
   ]
  },
  {
   "cell_type": "code",
   "execution_count": 32,
   "metadata": {},
   "outputs": [
    {
     "name": "stdout",
     "output_type": "stream",
     "text": [
      "966c9db674593ba01c3233c1ddd66de7356d46eee938ecd1773685ea700b3e7c\n"
     ]
    },
    {
     "data": {
      "text/plain": [
       "{'asset': {'data': {'vote': {'identifier': 'question_14102017',\n",
       "    'manufacturer': True}}},\n",
       " 'id': '966c9db674593ba01c3233c1ddd66de7356d46eee938ecd1773685ea700b3e7c',\n",
       " 'inputs': [{'fulfillment': 'pGSAIGDgnnVXMstv7aqbRjgyd6e3UiPOZkT8aKnqQmJmu2xkgUCDhR-kVJqj68T25OjrIbjcyrURVz8VIJIT0tPkf_GBnrh95vBwcRIWPF8r2poW8-fJww7t718PVn4Kszmb9-sL',\n",
       "   'fulfills': None,\n",
       "   'owners_before': ['7XAo19fpQ7Kh5BHxSRhTSEEQyJstVM8x8MJURTnZcW6P']}],\n",
       " 'metadata': None,\n",
       " 'operation': 'CREATE',\n",
       " 'outputs': [{'amount': '1',\n",
       "   'condition': {'details': {'public_key': '7XAo19fpQ7Kh5BHxSRhTSEEQyJstVM8x8MJURTnZcW6P',\n",
       "     'type': 'ed25519-sha-256'},\n",
       "    'uri': 'ni:///sha-256;E8S-rp4fE27E99d8JWNIk4Ir3c41sN6NpxnsHRy80Mg?fpt=ed25519-sha-256&cost=131072'},\n",
       "   'public_keys': ['7XAo19fpQ7Kh5BHxSRhTSEEQyJstVM8x8MJURTnZcW6P']}],\n",
       " 'version': '1.0'}"
      ]
     },
     "execution_count": 32,
     "metadata": {},
     "output_type": "execute_result"
    }
   ],
   "source": [
    "print(tx['id'])\n",
    "bdb.transactions.retrieve(tx['id'])"
   ]
  },
  {
   "cell_type": "code",
   "execution_count": 21,
   "metadata": {},
   "outputs": [],
   "source": [
    "# construct the input\n",
    "output_index = 0\n",
    "output = tx['outputs'][output_index] # usamos la transaccion anterior\n",
    "input_ = {\n",
    "    'fulfillment': output['condition']['details'],\n",
    "    'fulfills': {\n",
    "        'output_index': output_index,\n",
    "        'transaction_id': tx['id'],\n",
    "    },\n",
    "    'owners_before': output['public_keys'],\n",
    "}"
   ]
  },
  {
   "cell_type": "code",
   "execution_count": 22,
   "metadata": {},
   "outputs": [],
   "source": [
    "# buil the transfer asset\n",
    "transfer_asset_id = tx['id']\n",
    "transfer_asset = {\n",
    "    'id': transfer_asset_id,\n",
    "}"
   ]
  },
  {
   "cell_type": "code",
   "execution_count": 23,
   "metadata": {},
   "outputs": [],
   "source": [
    "# transfer preparation\n",
    "tx_transfer = bdb.transactions.prepare(\n",
    "    operation='TRANSFER',\n",
    "    inputs=input_,\n",
    "    asset=transfer_asset,\n",
    "    recipients=ciu2.public_key,\n",
    ")"
   ]
  },
  {
   "cell_type": "code",
   "execution_count": 24,
   "metadata": {},
   "outputs": [],
   "source": [
    "# transfer fulfilling\n",
    "signed_tx_transfer = bdb.transactions.fulfill(\n",
    "    tx_transfer,\n",
    "    private_keys=ciu1.private_key,\n",
    ")"
   ]
  },
  {
   "cell_type": "code",
   "execution_count": 25,
   "metadata": {},
   "outputs": [],
   "source": [
    "# finally send the transaction to the chainblock\n",
    "sent_tx_transfer = bdb.transactions.send(signed_tx_transfer)"
   ]
  },
  {
   "cell_type": "code",
   "execution_count": 26,
   "metadata": {},
   "outputs": [],
   "source": [
    "all_assets = bdb.assets.get(search=\"question_14102017\")"
   ]
  },
  {
   "cell_type": "code",
   "execution_count": 27,
   "metadata": {},
   "outputs": [
    {
     "data": {
      "text/plain": [
       "[{'data': {'vote': {'identifier': 'question_14102017', 'manufacturer': True}},\n",
       "  'id': 'd5729040181e3a069d84f4da89341f536e567fafa8c8a7eda28c5662248b08ec'},\n",
       " {'data': {'vote': {'identifier': 'question_14102017', 'manufacturer': True}},\n",
       "  'id': '23f88d4cd12dba2207b8f329ca0e729102267a871f4ffb459feef61ab6f6a501'},\n",
       " {'data': {'vote': {'identifier': 'question_14102017', 'manufacturer': True}},\n",
       "  'id': 'e4f8da430192c347f242967b6016f548bc0a50a2636d622f97215721acef0fdb'},\n",
       " {'data': {'vote': {'identifier': 'question_14102017', 'manufacturer': True}},\n",
       "  'id': '8e3968334d035bb2ded7e18ccac130dbd983826592c4ac6939a7203a33647ace'},\n",
       " {'data': {'vote': {'identifier': 'question_14102017', 'manufacturer': True}},\n",
       "  'id': 'f8bd946570a3eb86abf79ac8ea5d152fd00fd768351a20ff328e53797f3fe4eb'},\n",
       " {'data': {'vote': {'identifier': 'question_14102017', 'manufacturer': True}},\n",
       "  'id': 'f49e08f944cd916220378eb85d8d1e183d0520753d83a6babc699bba18674e7e'},\n",
       " {'data': {'vote': {'identifier': 'question_14102017', 'manufacturer': True}},\n",
       "  'id': '3b5daeec4a4f2b49a26549d00a013c96ddf5e248f39c54d53f5603aa7d566927'},\n",
       " {'data': {'vote': {'identifier': 'question_14102017', 'manufacturer': True}},\n",
       "  'id': '966c9db674593ba01c3233c1ddd66de7356d46eee938ecd1773685ea700b3e7c'}]"
      ]
     },
     "execution_count": 27,
     "metadata": {},
     "output_type": "execute_result"
    }
   ],
   "source": [
    "all_assets"
   ]
  },
  {
   "cell_type": "code",
   "execution_count": null,
   "metadata": {},
   "outputs": [],
   "source": [
    "bdb.transactions.get(asset_id='d5729040181e3a069d84f4da89341f536e567fafa8c8a7eda28c5662248b08ec', operation='TRANSFER')"
   ]
  },
  {
   "cell_type": "code",
   "execution_count": null,
   "metadata": {},
   "outputs": [],
   "source": [
    "ciu1.public_key"
   ]
  },
  {
   "cell_type": "code",
   "execution_count": null,
   "metadata": {},
   "outputs": [],
   "source": [
    "org.public_key"
   ]
  },
  {
   "cell_type": "markdown",
   "metadata": {},
   "source": [
    "## ciu2 vota:"
   ]
  },
  {
   "cell_type": "code",
   "execution_count": null,
   "metadata": {},
   "outputs": [],
   "source": [
    "payload = {\n",
    "    'data': {\n",
    "        'vote': {\n",
    "            # lo que hay aqui se puede cambiar\n",
    "            'identifier': 'question_14102017',\n",
    "            'manufacturer': True,\n",
    "        },\n",
    "    }, \n",
    "}\n",
    "\n",
    "tx = bdb.transactions.prepare(\n",
    "        operation='CREATE',\n",
    "        signers=ciu1.public_key,\n",
    "        asset=payload,\n",
    ")\n",
    "signed_tx = bdb.transactions.fulfill(tx, private_keys=ciu1.private_key)\n",
    "sent_tx = bdb.transactions.send(signed_tx)"
   ]
  },
  {
   "cell_type": "code",
   "execution_count": null,
   "metadata": {},
   "outputs": [],
   "source": [
    "def getTransactionId(transaction):\n",
    "    return transaction['id']\n",
    "\n",
    "def getAssetId(asset):\n",
    "    return asset['id']\n",
    "\n",
    "def makeAsset(questionId):\n",
    "    asset={'data': {\n",
    "                'vote': {\n",
    "                    # lo que hay aqui se puede cambiar\n",
    "                    'identifier': questionId,\n",
    "                    'answer' : 'yn'\n",
    "                },\n",
    "            },\n",
    "          }\n",
    "    return asset\n",
    "\n",
    "def sentTransaction(bdb, signer, asset):\n",
    "    #Preparing\n",
    "    transaction =  bdb.transactions.prepare(\n",
    "        operation = 'CREATE',\n",
    "        signers = signer.public_key,\n",
    "        asset = asset,)\n",
    "    #Signing\n",
    "    signedTransaction = bdb.transactions.fulfill(transaction, private_keys = signer.private_key)\n",
    "    #Sending\n",
    "    sentTransaction = bdb.transactions.send(transaction)\n",
    "    return sentTransaction\n",
    "###############################################\n",
    "def retrieveTransaction(bdb, transaction):\n",
    "    return bdb.transactions.retrieve(getTransactionId(transaction))\n",
    "\n",
    "def transferTransaction(bdb, transaction, owner, newOwner):\n",
    "    creation_tx = retrieveTransaction(transaction)\n",
    "    output_index = 0\n",
    "    output = creation_tx['outputs'][output_index]\n",
    "    \n",
    "    transferInput = {\n",
    "        'fulfillment': output['condition']['details'],\n",
    "        'fulfills': {\n",
    "            'output_index': output_index,\n",
    "            'transaction_id': creation_tx['id'],\n",
    "        },\n",
    "        'owners_before': output['public_keys'],\n",
    "    }\n",
    "    # buil the transfer asset\n",
    "    asset_id = creation_tx['id']\n",
    "    transfer_asset = {\n",
    "        'id': asset_id,\n",
    "    }\n",
    "    # transfer preparation\n",
    "    preparedTransfer = bdb.transactions.prepare(\n",
    "        operation='TRANSFER',\n",
    "        inputs=transferInput,\n",
    "        asset=transfer_asset,\n",
    "        recipients=newOwner.public_key,\n",
    "    )\n",
    "    #Sing\n",
    "    fullfilledTransfer = bdb.transactions.fulfill(\n",
    "                         preparedTransfer,\n",
    "                         private_keys=owner.private_key,\n",
    "                     )\n",
    "    #Send\n",
    "    sentTransfer = bdb.transactions.send(fullfilledTransfer)\n",
    "    return sentTransfer"
   ]
  }
 ],
 "metadata": {
  "kernelspec": {
   "display_name": "Python 3",
   "language": "python",
   "name": "python3"
  },
  "language_info": {
   "codemirror_mode": {
    "name": "ipython",
    "version": 3
   },
   "file_extension": ".py",
   "mimetype": "text/x-python",
   "name": "python",
   "nbconvert_exporter": "python",
   "pygments_lexer": "ipython3",
   "version": "3.5.3"
  }
 },
 "nbformat": 4,
 "nbformat_minor": 2
}
