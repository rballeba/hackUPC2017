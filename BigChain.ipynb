{
 "cells": [
  {
   "cell_type": "markdown",
   "metadata": {},
   "source": [
    "## Testing"
   ]
  },
  {
   "cell_type": "code",
   "execution_count": 98,
   "metadata": {
    "collapsed": true
   },
   "outputs": [],
   "source": [
    "from bigchaindb_driver import BigchainDB\n",
    "from bigchaindb_driver.crypto import generate_keypair\n",
    "\n",
    "import json"
   ]
  },
  {
   "cell_type": "code",
   "execution_count": 110,
   "metadata": {
    "collapsed": true
   },
   "outputs": [],
   "source": [
    "BDG_ROOT_URL = '35.157.161.130'\n",
    "BDB_URL_PORT = 9984"
   ]
  },
  {
   "cell_type": "code",
   "execution_count": 111,
   "metadata": {},
   "outputs": [],
   "source": [
    "bdb = BigchainDB('http://{}:{}'.format(BDG_ROOT_URL, BDB_URL_PORT))"
   ]
  },
  {
   "cell_type": "code",
   "execution_count": 112,
   "metadata": {},
   "outputs": [],
   "source": [
    "alice = generate_keypair()"
   ]
  },
  {
   "cell_type": "code",
   "execution_count": 113,
   "metadata": {},
   "outputs": [],
   "source": [
    "# Alice's bike\n",
    "bicycle = {\n",
    "    'data': {\n",
    "        'bicycle': {\n",
    "            'serial_number': 'abcd1234',\n",
    "            'manufacturer': 'bkfab',\n",
    "        },\n",
    "    }, \n",
    "}"
   ]
  },
  {
   "cell_type": "code",
   "execution_count": 114,
   "metadata": {},
   "outputs": [],
   "source": [
    "# Asset creation\n",
    "\n",
    "# create asset\n",
    "prepared_creation_tx = bdb.transactions.prepare(\n",
    "        operation='CREATE',\n",
    "        signers=alice.public_key,\n",
    "        asset=bicycle,\n",
    ")\n",
    "\n",
    "fulfilled_creation_tx = bdb.transactions.fulfill(\n",
    "    prepared_creation_tx, \n",
    "    private_keys=alice.private_key, # signed with private key\n",
    ")\n",
    "\n",
    "# send asset\n",
    "sent_creation_tx = bdb.transactions.send(fulfilled_creation_tx)"
   ]
  },
  {
   "cell_type": "code",
   "execution_count": 116,
   "metadata": {},
   "outputs": [],
   "source": [
    "txid = fulfilled_creation_tx['id']"
   ]
  },
  {
   "cell_type": "code",
   "execution_count": 117,
   "metadata": {},
   "outputs": [
    {
     "data": {
      "text/plain": [
       "'368c05a467e89f529a32dcccbc265fab8447f953c3f450107a9231362fa044fc'"
      ]
     },
     "execution_count": 117,
     "metadata": {},
     "output_type": "execute_result"
    }
   ],
   "source": [
    "txid"
   ]
  },
  {
   "cell_type": "code",
   "execution_count": 123,
   "metadata": {},
   "outputs": [
    {
     "data": {
      "text/plain": [
       "[{'data': {'bicycle': {'manufacturer': 'bkfab', 'serial_number': 'abcd1234'}},\n",
       "  'id': '368c05a467e89f529a32dcccbc265fab8447f953c3f450107a9231362fa044fc'}]"
      ]
     },
     "execution_count": 123,
     "metadata": {},
     "output_type": "execute_result"
    }
   ],
   "source": [
    "bdb.assets.get(search='abcd1234')"
   ]
  },
  {
   "cell_type": "markdown",
   "metadata": {},
   "source": [
    "## Clases"
   ]
  },
  {
   "cell_type": "code",
   "execution_count": null,
   "metadata": {
    "collapsed": true
   },
   "outputs": [],
   "source": [
    "def basemodel(database):\n",
    "    class Model:\n",
    "        db = database\n",
    "\n",
    "    return Model"
   ]
  },
  {
   "cell_type": "code",
   "execution_count": null,
   "metadata": {},
   "outputs": [],
   "source": [
    "class User(basemodel('database')):\n",
    "    def __init__(self):\n",
    "        self._public_key, self._private_key = generate_keypair()\n",
    "        \n",
    "    @staticmethod\n",
    "    def from_dict(dct):\n",
    "        self._private_key = dct.private_key\n",
    "        self._public_key = dct.public_key\n",
    "    \n",
    "    @property\n",
    "    def private_key(self):\n",
    "        return self._private_key\n",
    "    \n",
    "    @property\n",
    "    def public_key(self):\n",
    "        return self._public_key"
   ]
  },
  {
   "cell_type": "code",
   "execution_count": null,
   "metadata": {
    "collapsed": true
   },
   "outputs": [],
   "source": [
    "class Asset(basemodel('database')):\n",
    "    \n",
    "    def __init__(self, owner: User, **kwargs):\n",
    "        \"\"\"\n",
    "        Usage:\n",
    "        Asset(me, id=3, value=4)\n",
    "        ->\n",
    "        {\n",
    "            'data': {\n",
    "                id : 3,\n",
    "                value : 4,\n",
    "            }\n",
    "        }\n",
    "        \"\"\"\n",
    "        self.asset = {\n",
    "            'data': {\n",
    "                k:v for k,v in kwargs.items()\n",
    "            }\n",
    "        }\n",
    "        self.owner = owner\n",
    "        self._txid = None\n",
    "        \n",
    "    @property\n",
    "    def id(self):\n",
    "        if self._id is None:\n",
    "            raise Exception('The Asset must be created first')\n",
    "        return self._id\n",
    "        \n",
    "    def create(self):\n",
    "        bdb = Asset.db\n",
    "        # PREPARE CREATION\n",
    "        prepared_creation_tx = bdb.transactions.prepare(\n",
    "            operation='CREATE',\n",
    "            signers=self.user.public_key,\n",
    "            asset=self.asset,\n",
    "        )\n",
    "        \n",
    "        # FULFILL IT\n",
    "        fulfilled_creation_tx = bdb.transactions.fulfill(\n",
    "            prepared_creation_tx, \n",
    "            private_keys=self.private_key,\n",
    "        )\n",
    "        \n",
    "        # WARNING: it might take a while until it is validated\n",
    "        sent_creation_tx = bdb.transactions.send(fulfilled_creation_tx)\n",
    "    \n",
    "        self._id = fulfilled_creation_tx['id']\n",
    "        \n",
    "    def send(self, to: User):\n",
    "        bdb = Asset.db\n",
    "        assert(bdb.transactions.status(txid).get('status') == 'valid')\n",
    "        \n",
    "        creation_tx = bdb.transactions.retrieve(self.id)\n",
    "        asset_id = creation_tx['id']\n",
    "        \n",
    "        transfer_asset = {\n",
    "            'id': asset_id,\n",
    "        }\n",
    "        \n",
    "        # PREPARE TRANSACTION\n",
    "        output_index = 0\n",
    "\n",
    "        output = creation_tx['outputs'][output_index\n",
    "        transfer_input = {\n",
    "            'fulfillment': output['condition']['details'],\n",
    "            'fulfills': {\n",
    "                 'output_index': output_index,\n",
    "                 'transaction_id': creation_tx['id'],\n",
    "             },\n",
    "             'owners_before': output['public_keys'],\n",
    "        }\n",
    "\n",
    "        prepared_transfer_tx = bdb.transactions.prepare(\n",
    "            operation='TRANSFER',\n",
    "            asset=transfer_asset,\n",
    "            inputs=transfer_input,\n",
    "            recipients=to.public_key,\n",
    "        )\n",
    "        \n",
    "        # FULFILL TRANSACTION\n",
    "        fulfilled_transfer_tx = bdb.transactions.fulfill(\n",
    "            prepared_transfer_tx,\n",
    "            private_keys=self.user.private_key,\n",
    "        )\n",
    "        \n",
    "        sent_transfer_tx = bdb.transactions.send(fulfilled_transfer_tx)"
   ]
  },
  {
   "cell_type": "code",
   "execution_count": null,
   "metadata": {
    "collapsed": true
   },
   "outputs": [],
   "source": [
    "class Voter(User):\n",
    "    "
   ]
  }
 ],
 "metadata": {
  "kernelspec": {
   "display_name": "Python 3",
   "language": "python",
   "name": "python3"
  },
  "language_info": {
   "codemirror_mode": {
    "name": "ipython",
    "version": 3
   },
   "file_extension": ".py",
   "mimetype": "text/x-python",
   "name": "python",
   "nbconvert_exporter": "python",
   "pygments_lexer": "ipython3",
   "version": "3.6.2"
  }
 },
 "nbformat": 4,
 "nbformat_minor": 2
}
