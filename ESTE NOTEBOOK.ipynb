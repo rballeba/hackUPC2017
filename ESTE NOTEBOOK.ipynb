{
 "cells": [
  {
   "cell_type": "code",
   "execution_count": 7,
   "metadata": {},
   "outputs": [],
   "source": [
    "from bigchaindb_driver import BigchainDB\n",
    "from bigchaindb_driver.crypto import generate_keypair\n",
    "\n",
    "import json"
   ]
  },
  {
   "cell_type": "code",
   "execution_count": 8,
   "metadata": {},
   "outputs": [],
   "source": [
    "BDG_ROOT_URL = '35.157.161.130'\n",
    "BDB_URL_PORT = 9984\n",
    "bdb = BigchainDB('http://{}:{}'.format(BDG_ROOT_URL, BDB_URL_PORT))"
   ]
  },
  {
   "cell_type": "markdown",
   "metadata": {},
   "source": [
    "## Creacion de Assets"
   ]
  },
  {
   "cell_type": "code",
   "execution_count": 9,
   "metadata": {},
   "outputs": [],
   "source": [
    "# Alice es un usuario definido por un par de claves\n",
    "alice = generate_keypair()\n",
    "\n",
    "# bob tbn\n",
    "bob = generate_keypair()"
   ]
  },
  {
   "cell_type": "code",
   "execution_count": 10,
   "metadata": {},
   "outputs": [],
   "source": [
    "alice_secret = generate_keypair()"
   ]
  },
  {
   "cell_type": "code",
   "execution_count": 11,
   "metadata": {},
   "outputs": [],
   "source": [
    "# Alice's vote\n",
    "vote = {\n",
    "    'data': {\n",
    "        'vote': {\n",
    "            # lo que hay aqui se puede cambiar\n",
    "            'identifier': 'question_14102017',\n",
    "            'manufacturer': True,\n",
    "        },\n",
    "    }, \n",
    "}"
   ]
  },
  {
   "cell_type": "code",
   "execution_count": 12,
   "metadata": {},
   "outputs": [
    {
     "ename": "NameError",
     "evalue": "name 'bicycle' is not defined",
     "output_type": "error",
     "traceback": [
      "\u001b[0;31m---------------------------------------------------------------------------\u001b[0m",
      "\u001b[0;31mNameError\u001b[0m                                 Traceback (most recent call last)",
      "\u001b[0;32m<ipython-input-12-1e6b6cb88672>\u001b[0m in \u001b[0;36m<module>\u001b[0;34m()\u001b[0m\n\u001b[1;32m      5\u001b[0m         \u001b[0moperation\u001b[0m\u001b[0;34m=\u001b[0m\u001b[0;34m'CREATE'\u001b[0m\u001b[0;34m,\u001b[0m\u001b[0;34m\u001b[0m\u001b[0m\n\u001b[1;32m      6\u001b[0m         \u001b[0msigners\u001b[0m\u001b[0;34m=\u001b[0m\u001b[0malice\u001b[0m\u001b[0;34m.\u001b[0m\u001b[0mpublic_key\u001b[0m\u001b[0;34m,\u001b[0m\u001b[0;34m\u001b[0m\u001b[0m\n\u001b[0;32m----> 7\u001b[0;31m         \u001b[0masset\u001b[0m\u001b[0;34m=\u001b[0m\u001b[0mbicycle\u001b[0m\u001b[0;34m,\u001b[0m\u001b[0;34m\u001b[0m\u001b[0m\n\u001b[0m\u001b[1;32m      8\u001b[0m )\n\u001b[1;32m      9\u001b[0m \u001b[0;34m\u001b[0m\u001b[0m\n",
      "\u001b[0;31mNameError\u001b[0m: name 'bicycle' is not defined"
     ]
    }
   ],
   "source": [
    "# Creacion del asset\n",
    "\n",
    "# create asset\n",
    "prepared_creation_tx = bdb.transactions.prepare(\n",
    "        operation='CREATE',\n",
    "        signers=alice.public_key,\n",
    "        asset=bicycle,\n",
    ")\n",
    "\n",
    "fulfilled_creation_tx = bdb.transactions.fulfill(\n",
    "    prepared_creation_tx, \n",
    "    private_keys=alice.private_key, # signed with private key\n",
    ")\n",
    "\n",
    "# send asset\n",
    "sent_creation_tx = bdb.transactions.send(fulfilled_creation_tx)\n",
    "\n",
    "txid = fulfilled_creation_tx['id'] # id de la transaccion"
   ]
  },
  {
   "cell_type": "code",
   "execution_count": 13,
   "metadata": {},
   "outputs": [
    {
     "ename": "NameError",
     "evalue": "name 'fulfilled_creation_tx' is not defined",
     "output_type": "error",
     "traceback": [
      "\u001b[0;31m---------------------------------------------------------------------------\u001b[0m",
      "\u001b[0;31mNameError\u001b[0m                                 Traceback (most recent call last)",
      "\u001b[0;32m<ipython-input-13-5b37e422718a>\u001b[0m in \u001b[0;36m<module>\u001b[0;34m()\u001b[0m\n\u001b[0;32m----> 1\u001b[0;31m \u001b[0mfulfilled_creation_tx\u001b[0m\u001b[0;34m\u001b[0m\u001b[0m\n\u001b[0m",
      "\u001b[0;31mNameError\u001b[0m: name 'fulfilled_creation_tx' is not defined"
     ]
    }
   ],
   "source": [
    "fulfilled_creation_tx"
   ]
  },
  {
   "cell_type": "code",
   "execution_count": 14,
   "metadata": {},
   "outputs": [
    {
     "ename": "NameError",
     "evalue": "name 'txid' is not defined",
     "output_type": "error",
     "traceback": [
      "\u001b[0;31m---------------------------------------------------------------------------\u001b[0m",
      "\u001b[0;31mNameError\u001b[0m                                 Traceback (most recent call last)",
      "\u001b[0;32m<ipython-input-14-53b2bff5d03a>\u001b[0m in \u001b[0;36m<module>\u001b[0;34m()\u001b[0m\n\u001b[0;32m----> 1\u001b[0;31m \u001b[0mcreation_tx\u001b[0m \u001b[0;34m=\u001b[0m \u001b[0mbdb\u001b[0m\u001b[0;34m.\u001b[0m\u001b[0mtransactions\u001b[0m\u001b[0;34m.\u001b[0m\u001b[0mretrieve\u001b[0m\u001b[0;34m(\u001b[0m\u001b[0mtxid\u001b[0m\u001b[0;34m)\u001b[0m\u001b[0;34m\u001b[0m\u001b[0m\n\u001b[0m",
      "\u001b[0;31mNameError\u001b[0m: name 'txid' is not defined"
     ]
    }
   ],
   "source": [
    "creation_tx = bdb.transactions.retrieve(txid)"
   ]
  },
  {
   "cell_type": "code",
   "execution_count": 15,
   "metadata": {},
   "outputs": [
    {
     "data": {
      "text/plain": [
       "'Ay4ysq4AEcvop8jRqRYAhiiwabutLEuqLb4mAEyXmDq2'"
      ]
     },
     "execution_count": 15,
     "metadata": {},
     "output_type": "execute_result"
    }
   ],
   "source": [
    "alice.public_key"
   ]
  },
  {
   "cell_type": "code",
   "execution_count": 16,
   "metadata": {},
   "outputs": [
    {
     "ename": "NameError",
     "evalue": "name 'creation_tx' is not defined",
     "output_type": "error",
     "traceback": [
      "\u001b[0;31m---------------------------------------------------------------------------\u001b[0m",
      "\u001b[0;31mNameError\u001b[0m                                 Traceback (most recent call last)",
      "\u001b[0;32m<ipython-input-16-6ce9ec02527d>\u001b[0m in \u001b[0;36m<module>\u001b[0;34m()\u001b[0m\n\u001b[1;32m      1\u001b[0m \u001b[0;31m# Alice is the owner\u001b[0m\u001b[0;34m\u001b[0m\u001b[0;34m\u001b[0m\u001b[0m\n\u001b[0;32m----> 2\u001b[0;31m \u001b[0mcreation_tx\u001b[0m\u001b[0;34m[\u001b[0m\u001b[0;34m'outputs'\u001b[0m\u001b[0;34m]\u001b[0m\u001b[0;34m[\u001b[0m\u001b[0;36m0\u001b[0m\u001b[0;34m]\u001b[0m\u001b[0;34m[\u001b[0m\u001b[0;34m'public_keys'\u001b[0m\u001b[0;34m]\u001b[0m\u001b[0;34m[\u001b[0m\u001b[0;36m0\u001b[0m\u001b[0;34m]\u001b[0m \u001b[0;34m==\u001b[0m \u001b[0malice\u001b[0m\u001b[0;34m.\u001b[0m\u001b[0mpublic_key\u001b[0m\u001b[0;34m\u001b[0m\u001b[0m\n\u001b[0m",
      "\u001b[0;31mNameError\u001b[0m: name 'creation_tx' is not defined"
     ]
    }
   ],
   "source": [
    "# Alice is the owner\n",
    "creation_tx['outputs'][0]['public_keys'][0] == alice.public_key"
   ]
  },
  {
   "cell_type": "code",
   "execution_count": 17,
   "metadata": {},
   "outputs": [
    {
     "data": {
      "text/plain": [
       "[{'data': {'sida': {'cuanto_sida': ['mu', 'cho'],\n",
       "    'identifier': 'pamtumaca',\n",
       "    'manufacturer': 'bkfab'}},\n",
       "  'id': 'f4efbda2a593e47bda56f40ed3c6ba671e36c186eaf6f728159178cf0dbe8586'}]"
      ]
     },
     "execution_count": 17,
     "metadata": {},
     "output_type": "execute_result"
    }
   ],
   "source": [
    "# Buscar bicis por serial number:\n",
    "assets = bdb.assets.get(search=\"pamtumaca\")\n",
    "assets"
   ]
  },
  {
   "cell_type": "markdown",
   "metadata": {},
   "source": [
    "## Transferencia de Assets"
   ]
  },
  {
   "cell_type": "code",
   "execution_count": 18,
   "metadata": {},
   "outputs": [
    {
     "ename": "NameError",
     "evalue": "name 'fulfilled_creation_tx' is not defined",
     "output_type": "error",
     "traceback": [
      "\u001b[0;31m---------------------------------------------------------------------------\u001b[0m",
      "\u001b[0;31mNameError\u001b[0m                                 Traceback (most recent call last)",
      "\u001b[0;32m<ipython-input-18-62db61606387>\u001b[0m in \u001b[0;36m<module>\u001b[0;34m()\u001b[0m\n\u001b[0;32m----> 1\u001b[0;31m \u001b[0mfulfilled_creation_tx\u001b[0m\u001b[0;34m[\u001b[0m\u001b[0;34m'id'\u001b[0m\u001b[0;34m]\u001b[0m\u001b[0;34m\u001b[0m\u001b[0m\n\u001b[0m",
      "\u001b[0;31mNameError\u001b[0m: name 'fulfilled_creation_tx' is not defined"
     ]
    }
   ],
   "source": [
    "fulfilled_creation_tx['id']"
   ]
  },
  {
   "cell_type": "code",
   "execution_count": 19,
   "metadata": {},
   "outputs": [
    {
     "data": {
      "text/plain": [
       "'f4efbda2a593e47bda56f40ed3c6ba671e36c186eaf6f728159178cf0dbe8586'"
      ]
     },
     "execution_count": 19,
     "metadata": {},
     "output_type": "execute_result"
    }
   ],
   "source": [
    "# Alice le quiere enviar la bici con id\n",
    "bici = assets[0]\n",
    "bici['id']"
   ]
  },
  {
   "cell_type": "code",
   "execution_count": 20,
   "metadata": {},
   "outputs": [
    {
     "data": {
      "text/plain": [
       "False"
      ]
     },
     "execution_count": 20,
     "metadata": {},
     "output_type": "execute_result"
    }
   ],
   "source": [
    "# Notar que la bici es de alice\n",
    "creation_tx = bdb.transactions.retrieve(bici['id'])\n",
    "creation_tx['outputs'][0]['public_keys'][0] == alice.public_key"
   ]
  },
  {
   "cell_type": "code",
   "execution_count": 21,
   "metadata": {},
   "outputs": [],
   "source": [
    "transfer_asset = {\n",
    "    'id': bici['id'],\n",
    "}"
   ]
  },
  {
   "cell_type": "code",
   "execution_count": 22,
   "metadata": {},
   "outputs": [
    {
     "ename": "MissingPrivateKeyError",
     "evalue": "A private key is missing!",
     "output_type": "error",
     "traceback": [
      "\u001b[0;31m---------------------------------------------------------------------------\u001b[0m",
      "\u001b[0;31mKeyError\u001b[0m                                  Traceback (most recent call last)",
      "\u001b[0;32m~/.local/lib/python3.5/site-packages/bigchaindb/common/transaction.py\u001b[0m in \u001b[0;36m_sign_simple_signature_fulfillment\u001b[0;34m(cls, input_, message, key_pairs)\u001b[0m\n\u001b[1;32m    807\u001b[0m                 \u001b[0mmessage\u001b[0m\u001b[0;34m.\u001b[0m\u001b[0mencode\u001b[0m\u001b[0;34m(\u001b[0m\u001b[0;34m)\u001b[0m\u001b[0;34m,\u001b[0m\u001b[0;34m\u001b[0m\u001b[0m\n\u001b[0;32m--> 808\u001b[0;31m                 \u001b[0mbase58\u001b[0m\u001b[0;34m.\u001b[0m\u001b[0mb58decode\u001b[0m\u001b[0;34m(\u001b[0m\u001b[0mkey_pairs\u001b[0m\u001b[0;34m[\u001b[0m\u001b[0mpublic_key\u001b[0m\u001b[0;34m]\u001b[0m\u001b[0;34m.\u001b[0m\u001b[0mencode\u001b[0m\u001b[0;34m(\u001b[0m\u001b[0;34m)\u001b[0m\u001b[0;34m)\u001b[0m\u001b[0;34m,\u001b[0m\u001b[0;34m\u001b[0m\u001b[0m\n\u001b[0m\u001b[1;32m    809\u001b[0m             )\n",
      "\u001b[0;31mKeyError\u001b[0m: 'HEtwHeTfCdv1jfDNLBESJCAhSFRUumAP25ExbuAtKQm9'",
      "\nDuring handling of the above exception, another exception occurred:\n",
      "\u001b[0;31mKeypairMismatchException\u001b[0m                  Traceback (most recent call last)",
      "\u001b[0;32m~/.local/lib/python3.5/site-packages/bigchaindb_driver/offchain.py\u001b[0m in \u001b[0;36mfulfill_transaction\u001b[0;34m(transaction, private_keys)\u001b[0m\n\u001b[1;32m    350\u001b[0m     \u001b[0;32mtry\u001b[0m\u001b[0;34m:\u001b[0m\u001b[0;34m\u001b[0m\u001b[0m\n\u001b[0;32m--> 351\u001b[0;31m         \u001b[0msigned_transaction\u001b[0m \u001b[0;34m=\u001b[0m \u001b[0mtransaction_obj\u001b[0m\u001b[0;34m.\u001b[0m\u001b[0msign\u001b[0m\u001b[0;34m(\u001b[0m\u001b[0mprivate_keys\u001b[0m\u001b[0;34m)\u001b[0m\u001b[0;34m\u001b[0m\u001b[0m\n\u001b[0m\u001b[1;32m    352\u001b[0m     \u001b[0;32mexcept\u001b[0m \u001b[0mKeypairMismatchException\u001b[0m \u001b[0;32mas\u001b[0m \u001b[0mexc\u001b[0m\u001b[0;34m:\u001b[0m\u001b[0;34m\u001b[0m\u001b[0m\n",
      "\u001b[0;32m~/.local/lib/python3.5/site-packages/bigchaindb/common/transaction.py\u001b[0m in \u001b[0;36msign\u001b[0;34m(self, private_keys)\u001b[0m\n\u001b[1;32m    757\u001b[0m         \u001b[0;32mfor\u001b[0m \u001b[0mi\u001b[0m\u001b[0;34m,\u001b[0m \u001b[0minput_\u001b[0m \u001b[0;32min\u001b[0m \u001b[0menumerate\u001b[0m\u001b[0;34m(\u001b[0m\u001b[0mself\u001b[0m\u001b[0;34m.\u001b[0m\u001b[0minputs\u001b[0m\u001b[0;34m)\u001b[0m\u001b[0;34m:\u001b[0m\u001b[0;34m\u001b[0m\u001b[0m\n\u001b[0;32m--> 758\u001b[0;31m             \u001b[0mself\u001b[0m\u001b[0;34m.\u001b[0m\u001b[0minputs\u001b[0m\u001b[0;34m[\u001b[0m\u001b[0mi\u001b[0m\u001b[0;34m]\u001b[0m \u001b[0;34m=\u001b[0m \u001b[0mself\u001b[0m\u001b[0;34m.\u001b[0m\u001b[0m_sign_input\u001b[0m\u001b[0;34m(\u001b[0m\u001b[0minput_\u001b[0m\u001b[0;34m,\u001b[0m \u001b[0mtx_serialized\u001b[0m\u001b[0;34m,\u001b[0m \u001b[0mkey_pairs\u001b[0m\u001b[0;34m)\u001b[0m\u001b[0;34m\u001b[0m\u001b[0m\n\u001b[0m\u001b[1;32m    759\u001b[0m         \u001b[0;32mreturn\u001b[0m \u001b[0mself\u001b[0m\u001b[0;34m\u001b[0m\u001b[0m\n",
      "\u001b[0;32m~/.local/lib/python3.5/site-packages/bigchaindb/common/transaction.py\u001b[0m in \u001b[0;36m_sign_input\u001b[0;34m(cls, input_, message, key_pairs)\u001b[0m\n\u001b[1;32m    778\u001b[0m             return cls._sign_simple_signature_fulfillment(input_, message,\n\u001b[0;32m--> 779\u001b[0;31m                                                           key_pairs)\n\u001b[0m\u001b[1;32m    780\u001b[0m         \u001b[0;32melif\u001b[0m \u001b[0misinstance\u001b[0m\u001b[0;34m(\u001b[0m\u001b[0minput_\u001b[0m\u001b[0;34m.\u001b[0m\u001b[0mfulfillment\u001b[0m\u001b[0;34m,\u001b[0m \u001b[0mThresholdSha256\u001b[0m\u001b[0;34m)\u001b[0m\u001b[0;34m:\u001b[0m\u001b[0;34m\u001b[0m\u001b[0m\n",
      "\u001b[0;32m~/.local/lib/python3.5/site-packages/bigchaindb/common/transaction.py\u001b[0m in \u001b[0;36m_sign_simple_signature_fulfillment\u001b[0;34m(cls, input_, message, key_pairs)\u001b[0m\n\u001b[1;32m    812\u001b[0m                                            \u001b[0;34m'any of the private keys'\u001b[0m\u001b[0;34m\u001b[0m\u001b[0m\n\u001b[0;32m--> 813\u001b[0;31m                                            .format(public_key))\n\u001b[0m\u001b[1;32m    814\u001b[0m         \u001b[0;32mreturn\u001b[0m \u001b[0minput_\u001b[0m\u001b[0;34m\u001b[0m\u001b[0m\n",
      "\u001b[0;31mKeypairMismatchException\u001b[0m: Public key HEtwHeTfCdv1jfDNLBESJCAhSFRUumAP25ExbuAtKQm9 is not a pair to any of the private keys",
      "\nThe above exception was the direct cause of the following exception:\n",
      "\u001b[0;31mMissingPrivateKeyError\u001b[0m                    Traceback (most recent call last)",
      "\u001b[0;32m<ipython-input-22-b2b9a76d5f10>\u001b[0m in \u001b[0;36m<module>\u001b[0;34m()\u001b[0m\n\u001b[1;32m     19\u001b[0m fulfilled_transfer_tx = bdb.transactions.fulfill(\n\u001b[1;32m     20\u001b[0m     \u001b[0mprepared_transfer_tx\u001b[0m\u001b[0;34m,\u001b[0m\u001b[0;34m\u001b[0m\u001b[0m\n\u001b[0;32m---> 21\u001b[0;31m     \u001b[0mprivate_keys\u001b[0m\u001b[0;34m=\u001b[0m\u001b[0malice\u001b[0m\u001b[0;34m.\u001b[0m\u001b[0mprivate_key\u001b[0m\u001b[0;34m,\u001b[0m\u001b[0;34m\u001b[0m\u001b[0m\n\u001b[0m\u001b[1;32m     22\u001b[0m )\n",
      "\u001b[0;32m~/.local/lib/python3.5/site-packages/bigchaindb_driver/driver.py\u001b[0m in \u001b[0;36mfulfill\u001b[0;34m(transaction, private_keys)\u001b[0m\n\u001b[1;32m    260\u001b[0m \u001b[0;34m\u001b[0m\u001b[0m\n\u001b[1;32m    261\u001b[0m         \"\"\"\n\u001b[0;32m--> 262\u001b[0;31m         \u001b[0;32mreturn\u001b[0m \u001b[0mfulfill_transaction\u001b[0m\u001b[0;34m(\u001b[0m\u001b[0mtransaction\u001b[0m\u001b[0;34m,\u001b[0m \u001b[0mprivate_keys\u001b[0m\u001b[0;34m=\u001b[0m\u001b[0mprivate_keys\u001b[0m\u001b[0;34m)\u001b[0m\u001b[0;34m\u001b[0m\u001b[0m\n\u001b[0m\u001b[1;32m    263\u001b[0m \u001b[0;34m\u001b[0m\u001b[0m\n\u001b[1;32m    264\u001b[0m     \u001b[0;32mdef\u001b[0m \u001b[0mget\u001b[0m\u001b[0;34m(\u001b[0m\u001b[0mself\u001b[0m\u001b[0;34m,\u001b[0m \u001b[0;34m*\u001b[0m\u001b[0;34m,\u001b[0m \u001b[0masset_id\u001b[0m\u001b[0;34m,\u001b[0m \u001b[0moperation\u001b[0m\u001b[0;34m=\u001b[0m\u001b[0;32mNone\u001b[0m\u001b[0;34m,\u001b[0m \u001b[0mheaders\u001b[0m\u001b[0;34m=\u001b[0m\u001b[0;32mNone\u001b[0m\u001b[0;34m)\u001b[0m\u001b[0;34m:\u001b[0m\u001b[0;34m\u001b[0m\u001b[0m\n",
      "\u001b[0;32m~/.local/lib/python3.5/site-packages/bigchaindb_driver/offchain.py\u001b[0m in \u001b[0;36mfulfill_transaction\u001b[0;34m(transaction, private_keys)\u001b[0m\n\u001b[1;32m    351\u001b[0m         \u001b[0msigned_transaction\u001b[0m \u001b[0;34m=\u001b[0m \u001b[0mtransaction_obj\u001b[0m\u001b[0;34m.\u001b[0m\u001b[0msign\u001b[0m\u001b[0;34m(\u001b[0m\u001b[0mprivate_keys\u001b[0m\u001b[0;34m)\u001b[0m\u001b[0;34m\u001b[0m\u001b[0m\n\u001b[1;32m    352\u001b[0m     \u001b[0;32mexcept\u001b[0m \u001b[0mKeypairMismatchException\u001b[0m \u001b[0;32mas\u001b[0m \u001b[0mexc\u001b[0m\u001b[0;34m:\u001b[0m\u001b[0;34m\u001b[0m\u001b[0m\n\u001b[0;32m--> 353\u001b[0;31m         \u001b[0;32mraise\u001b[0m \u001b[0mMissingPrivateKeyError\u001b[0m\u001b[0;34m(\u001b[0m\u001b[0;34m'A private key is missing!'\u001b[0m\u001b[0;34m)\u001b[0m \u001b[0;32mfrom\u001b[0m \u001b[0mexc\u001b[0m\u001b[0;34m\u001b[0m\u001b[0m\n\u001b[0m\u001b[1;32m    354\u001b[0m \u001b[0;34m\u001b[0m\u001b[0m\n\u001b[1;32m    355\u001b[0m     \u001b[0;32mreturn\u001b[0m \u001b[0msigned_transaction\u001b[0m\u001b[0;34m.\u001b[0m\u001b[0mto_dict\u001b[0m\u001b[0;34m(\u001b[0m\u001b[0;34m)\u001b[0m\u001b[0;34m\u001b[0m\u001b[0m\n",
      "\u001b[0;31mMissingPrivateKeyError\u001b[0m: A private key is missing!"
     ]
    }
   ],
   "source": [
    "output_index = 0 # selecion de la opciones de output\n",
    "output = creation_tx['outputs'][output_index]\n",
    "transfer_input = {\n",
    "    'fulfillment': output['condition']['details'],\n",
    "    'fulfills': {\n",
    "        'output_index': output_index,\n",
    "        'transaction_id': creation_tx['id'],\n",
    "    },\n",
    "    'owners_before': output['public_keys'],\n",
    "}\n",
    "\n",
    "prepared_transfer_tx = bdb.transactions.prepare(\n",
    "    operation='TRANSFER',\n",
    "    asset=transfer_asset,\n",
    "    inputs=transfer_input,\n",
    "    recipients=alice_secret.public_key,\n",
    ")\n",
    "\n",
    "fulfilled_transfer_tx = bdb.transactions.fulfill(\n",
    "    prepared_transfer_tx,\n",
    "    private_keys=alice.private_key,\n",
    ")"
   ]
  },
  {
   "cell_type": "code",
   "execution_count": 23,
   "metadata": {},
   "outputs": [
    {
     "ename": "NameError",
     "evalue": "name 'fulfilled_transfer_tx' is not defined",
     "output_type": "error",
     "traceback": [
      "\u001b[0;31m---------------------------------------------------------------------------\u001b[0m",
      "\u001b[0;31mNameError\u001b[0m                                 Traceback (most recent call last)",
      "\u001b[0;32m<ipython-input-23-cfc08d298005>\u001b[0m in \u001b[0;36m<module>\u001b[0;34m()\u001b[0m\n\u001b[0;32m----> 1\u001b[0;31m \u001b[0msent_transfer_tx\u001b[0m \u001b[0;34m=\u001b[0m \u001b[0mbdb\u001b[0m\u001b[0;34m.\u001b[0m\u001b[0mtransactions\u001b[0m\u001b[0;34m.\u001b[0m\u001b[0msend\u001b[0m\u001b[0;34m(\u001b[0m\u001b[0mfulfilled_transfer_tx\u001b[0m\u001b[0;34m)\u001b[0m\u001b[0;34m\u001b[0m\u001b[0m\n\u001b[0m",
      "\u001b[0;31mNameError\u001b[0m: name 'fulfilled_transfer_tx' is not defined"
     ]
    }
   ],
   "source": [
    "sent_transfer_tx = bdb.transactions.send(fulfilled_transfer_tx)"
   ]
  },
  {
   "cell_type": "code",
   "execution_count": 24,
   "metadata": {},
   "outputs": [
    {
     "ename": "NameError",
     "evalue": "name 'sent_transfer_tx' is not defined",
     "output_type": "error",
     "traceback": [
      "\u001b[0;31m---------------------------------------------------------------------------\u001b[0m",
      "\u001b[0;31mNameError\u001b[0m                                 Traceback (most recent call last)",
      "\u001b[0;32m<ipython-input-24-3c90fb39b778>\u001b[0m in \u001b[0;36m<module>\u001b[0;34m()\u001b[0m\n\u001b[0;32m----> 1\u001b[0;31m \u001b[0msent_transfer_tx\u001b[0m\u001b[0;34m\u001b[0m\u001b[0m\n\u001b[0m",
      "\u001b[0;31mNameError\u001b[0m: name 'sent_transfer_tx' is not defined"
     ]
    }
   ],
   "source": [
    "sent_transfer_tx"
   ]
  },
  {
   "cell_type": "code",
   "execution_count": 25,
   "metadata": {},
   "outputs": [
    {
     "data": {
      "text/plain": [
       "{'status': 'valid'}"
      ]
     },
     "execution_count": 25,
     "metadata": {},
     "output_type": "execute_result"
    }
   ],
   "source": [
    "bdb.transactions.status('5cfba500c357bef3243e694e4b5afa3c104f4402c86b608df4b8cf5e074185a4')"
   ]
  },
  {
   "cell_type": "code",
   "execution_count": 26,
   "metadata": {},
   "outputs": [
    {
     "data": {
      "text/plain": [
       "'AE8kLiACUv3FtYo34bnBKkULZY1GyksMrHQDcENjh5JE'"
      ]
     },
     "execution_count": 26,
     "metadata": {},
     "output_type": "execute_result"
    }
   ],
   "source": [
    "bob.public_key"
   ]
  },
  {
   "cell_type": "code",
   "execution_count": 27,
   "metadata": {},
   "outputs": [],
   "source": [
    "search = bdb.assets.get(search='pamtumaca')"
   ]
  },
  {
   "cell_type": "code",
   "execution_count": 28,
   "metadata": {},
   "outputs": [
    {
     "data": {
      "text/plain": [
       "[{'asset': {'data': {'sida': {'cuanto_sida': ['mu', 'cho'],\n",
       "     'identifier': 'pamtumaca',\n",
       "     'manufacturer': 'bkfab'}}},\n",
       "  'id': 'f4efbda2a593e47bda56f40ed3c6ba671e36c186eaf6f728159178cf0dbe8586',\n",
       "  'inputs': [{'fulfillment': 'pGSAIPFKQ_qXpUSijT_z7M46BYUx0t_zUD7pm4j_1lqBMxbcgUAybT0Fx1YVm_GyqxO0WtpXn1oxDX66WX3IQzHHPoDV9suGGaAOoTyHFWj96t7UAIpDswBGsHmvvKoz1D2I1XAO',\n",
       "    'fulfills': None,\n",
       "    'owners_before': ['HEtwHeTfCdv1jfDNLBESJCAhSFRUumAP25ExbuAtKQm9']}],\n",
       "  'metadata': None,\n",
       "  'operation': 'CREATE',\n",
       "  'outputs': [{'amount': '1',\n",
       "    'condition': {'details': {'public_key': 'HEtwHeTfCdv1jfDNLBESJCAhSFRUumAP25ExbuAtKQm9',\n",
       "      'type': 'ed25519-sha-256'},\n",
       "     'uri': 'ni:///sha-256;LikjEvHldymOvitUiFkBNEWwjkc6ygt4OaO2b5tlEtM?fpt=ed25519-sha-256&cost=131072'},\n",
       "    'public_keys': ['HEtwHeTfCdv1jfDNLBESJCAhSFRUumAP25ExbuAtKQm9']}],\n",
       "  'version': '1.0'},\n",
       " {'asset': {'id': 'f4efbda2a593e47bda56f40ed3c6ba671e36c186eaf6f728159178cf0dbe8586'},\n",
       "  'id': '5cfba500c357bef3243e694e4b5afa3c104f4402c86b608df4b8cf5e074185a4',\n",
       "  'inputs': [{'fulfillment': 'pGSAIPFKQ_qXpUSijT_z7M46BYUx0t_zUD7pm4j_1lqBMxbcgUA1hBW_JNLF8AcsO6O7Yv72ZnocyVIh8nQvwDanWnRKE-rYEvNeF7IOVtmhLIEKovx-pTlOnusatG_-xbE6n1gH',\n",
       "    'fulfills': {'output_index': 0,\n",
       "     'transaction_id': 'f4efbda2a593e47bda56f40ed3c6ba671e36c186eaf6f728159178cf0dbe8586'},\n",
       "    'owners_before': ['HEtwHeTfCdv1jfDNLBESJCAhSFRUumAP25ExbuAtKQm9']}],\n",
       "  'metadata': None,\n",
       "  'operation': 'TRANSFER',\n",
       "  'outputs': [{'amount': '1',\n",
       "    'condition': {'details': {'public_key': 'DcpriYX58N1NqyXBkA7WpsV7FKMwqwhvcdmuSGEQxKYW',\n",
       "      'type': 'ed25519-sha-256'},\n",
       "     'uri': 'ni:///sha-256;pmwlr6fe-TdVjHEDBlEGwa90VLXvx8isHNevqv_Q2cI?fpt=ed25519-sha-256&cost=131072'},\n",
       "    'public_keys': ['DcpriYX58N1NqyXBkA7WpsV7FKMwqwhvcdmuSGEQxKYW']}],\n",
       "  'version': '1.0'}]"
      ]
     },
     "execution_count": 28,
     "metadata": {},
     "output_type": "execute_result"
    }
   ],
   "source": [
    "bdb.transactions.get(asset_id=\"f4efbda2a593e47bda56f40ed3c6ba671e36c186eaf6f728159178cf0dbe8586\")"
   ]
  },
  {
   "cell_type": "code",
   "execution_count": 29,
   "metadata": {},
   "outputs": [
    {
     "data": {
      "text/plain": [
       "{'asset': {'id': 'f4efbda2a593e47bda56f40ed3c6ba671e36c186eaf6f728159178cf0dbe8586'},\n",
       " 'id': '5cfba500c357bef3243e694e4b5afa3c104f4402c86b608df4b8cf5e074185a4',\n",
       " 'inputs': [{'fulfillment': 'pGSAIPFKQ_qXpUSijT_z7M46BYUx0t_zUD7pm4j_1lqBMxbcgUA1hBW_JNLF8AcsO6O7Yv72ZnocyVIh8nQvwDanWnRKE-rYEvNeF7IOVtmhLIEKovx-pTlOnusatG_-xbE6n1gH',\n",
       "   'fulfills': {'output_index': 0,\n",
       "    'transaction_id': 'f4efbda2a593e47bda56f40ed3c6ba671e36c186eaf6f728159178cf0dbe8586'},\n",
       "   'owners_before': ['HEtwHeTfCdv1jfDNLBESJCAhSFRUumAP25ExbuAtKQm9']}],\n",
       " 'metadata': None,\n",
       " 'operation': 'TRANSFER',\n",
       " 'outputs': [{'amount': '1',\n",
       "   'condition': {'details': {'public_key': 'DcpriYX58N1NqyXBkA7WpsV7FKMwqwhvcdmuSGEQxKYW',\n",
       "     'type': 'ed25519-sha-256'},\n",
       "    'uri': 'ni:///sha-256;pmwlr6fe-TdVjHEDBlEGwa90VLXvx8isHNevqv_Q2cI?fpt=ed25519-sha-256&cost=131072'},\n",
       "   'public_keys': ['DcpriYX58N1NqyXBkA7WpsV7FKMwqwhvcdmuSGEQxKYW']}],\n",
       " 'version': '1.0'}"
      ]
     },
     "execution_count": 29,
     "metadata": {},
     "output_type": "execute_result"
    }
   ],
   "source": [
    "bdb.transactions.retrieve('5cfba500c357bef3243e694e4b5afa3c104f4402c86b608df4b8cf5e074185a4')"
   ]
  },
  {
   "cell_type": "code",
   "execution_count": 30,
   "metadata": {},
   "outputs": [
    {
     "data": {
      "text/plain": [
       "'Ay4ysq4AEcvop8jRqRYAhiiwabutLEuqLb4mAEyXmDq2'"
      ]
     },
     "execution_count": 30,
     "metadata": {},
     "output_type": "execute_result"
    }
   ],
   "source": [
    "alice.public_key"
   ]
  },
  {
   "cell_type": "code",
   "execution_count": 31,
   "metadata": {},
   "outputs": [
    {
     "data": {
      "text/plain": [
       "'AE8kLiACUv3FtYo34bnBKkULZY1GyksMrHQDcENjh5JE'"
      ]
     },
     "execution_count": 31,
     "metadata": {},
     "output_type": "execute_result"
    }
   ],
   "source": [
    "bob.public_key"
   ]
  },
  {
   "cell_type": "code",
   "execution_count": null,
   "metadata": {},
   "outputs": [],
   "source": []
  },
  {
   "cell_type": "code",
   "execution_count": null,
   "metadata": {},
   "outputs": [],
   "source": []
  }
 ],
 "metadata": {
  "kernelspec": {
   "display_name": "Python 3",
   "language": "python",
   "name": "python3"
  },
  "language_info": {
   "codemirror_mode": {
    "name": "ipython",
    "version": 3
   },
   "file_extension": ".py",
   "mimetype": "text/x-python",
   "name": "python",
   "nbconvert_exporter": "python",
   "pygments_lexer": "ipython3",
   "version": "3.5.3"
  }
 },
 "nbformat": 4,
 "nbformat_minor": 2
}
