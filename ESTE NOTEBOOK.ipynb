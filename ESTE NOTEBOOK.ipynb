{
 "cells": [
  {
   "cell_type": "code",
   "execution_count": 221,
   "metadata": {},
   "outputs": [],
   "source": [
    "from bigchaindb_driver import BigchainDB\n",
    "from bigchaindb_driver.crypto import generate_keypair\n",
    "\n",
    "import json"
   ]
  },
  {
   "cell_type": "code",
   "execution_count": 222,
   "metadata": {
    "collapsed": true
   },
   "outputs": [],
   "source": [
    "BDG_ROOT_URL = '35.157.161.130'\n",
    "BDB_URL_PORT = 9984\n",
    "bdb = BigchainDB('http://{}:{}'.format(BDG_ROOT_URL, BDB_URL_PORT))"
   ]
  },
  {
   "cell_type": "markdown",
   "metadata": {},
   "source": [
    "## Creacion de Assets"
   ]
  },
  {
   "cell_type": "code",
   "execution_count": 223,
   "metadata": {
    "collapsed": true
   },
   "outputs": [],
   "source": [
    "# Alice es un usuario definido por un par de claves\n",
    "alice = generate_keypair()\n",
    "\n",
    "# bob tbn\n",
    "bob = generate_keypair()"
   ]
  },
  {
   "cell_type": "code",
   "execution_count": 224,
   "metadata": {
    "collapsed": true
   },
   "outputs": [],
   "source": [
    "alice_secret = generate_keypair()"
   ]
  },
  {
   "cell_type": "code",
   "execution_count": 143,
   "metadata": {
    "collapsed": true
   },
   "outputs": [],
   "source": [
    "# Alice's vote\n",
    "vote = {\n",
    "    'data': {\n",
    "        'vote': {\n",
    "            # lo que hay aqui se puede cambiar\n",
    "            'identifier': 'question_14102017',\n",
    "            'manufacturer': True,\n",
    "        },\n",
    "    }, \n",
    "}"
   ]
  },
  {
   "cell_type": "code",
   "execution_count": 144,
   "metadata": {},
   "outputs": [],
   "source": [
    "# Creacion del asset\n",
    "\n",
    "# create asset\n",
    "prepared_creation_tx = bdb.transactions.prepare(\n",
    "        operation='CREATE',\n",
    "        signers=alice.public_key,\n",
    "        asset=bicycle,\n",
    ")\n",
    "\n",
    "fulfilled_creation_tx = bdb.transactions.fulfill(\n",
    "    prepared_creation_tx, \n",
    "    private_keys=alice.private_key, # signed with private key\n",
    ")\n",
    "\n",
    "# send asset\n",
    "sent_creation_tx = bdb.transactions.send(fulfilled_creation_tx)\n",
    "\n",
    "txid = fulfilled_creation_tx['id'] # id de la transaccion"
   ]
  },
  {
   "cell_type": "code",
   "execution_count": 145,
   "metadata": {},
   "outputs": [
    {
     "data": {
      "text/plain": [
       "{'asset': {'data': {'sida': {'cuanto_sida': ['mu', 'cho'],\n",
       "    'identifier': 'pamtumaca',\n",
       "    'manufacturer': 'bkfab'}}},\n",
       " 'id': 'f4efbda2a593e47bda56f40ed3c6ba671e36c186eaf6f728159178cf0dbe8586',\n",
       " 'inputs': [{'fulfillment': 'pGSAIPFKQ_qXpUSijT_z7M46BYUx0t_zUD7pm4j_1lqBMxbcgUAybT0Fx1YVm_GyqxO0WtpXn1oxDX66WX3IQzHHPoDV9suGGaAOoTyHFWj96t7UAIpDswBGsHmvvKoz1D2I1XAO',\n",
       "   'fulfills': None,\n",
       "   'owners_before': ['HEtwHeTfCdv1jfDNLBESJCAhSFRUumAP25ExbuAtKQm9']}],\n",
       " 'metadata': None,\n",
       " 'operation': 'CREATE',\n",
       " 'outputs': [{'amount': '1',\n",
       "   'condition': {'details': {'public_key': 'HEtwHeTfCdv1jfDNLBESJCAhSFRUumAP25ExbuAtKQm9',\n",
       "     'type': 'ed25519-sha-256'},\n",
       "    'uri': 'ni:///sha-256;LikjEvHldymOvitUiFkBNEWwjkc6ygt4OaO2b5tlEtM?fpt=ed25519-sha-256&cost=131072'},\n",
       "   'public_keys': ['HEtwHeTfCdv1jfDNLBESJCAhSFRUumAP25ExbuAtKQm9']}],\n",
       " 'version': '1.0'}"
      ]
     },
     "execution_count": 145,
     "metadata": {},
     "output_type": "execute_result"
    }
   ],
   "source": [
    "fulfilled_creation_tx"
   ]
  },
  {
   "cell_type": "code",
   "execution_count": 146,
   "metadata": {},
   "outputs": [],
   "source": [
    "creation_tx = bdb.transactions.retrieve(txid)"
   ]
  },
  {
   "cell_type": "code",
   "execution_count": 147,
   "metadata": {},
   "outputs": [
    {
     "data": {
      "text/plain": [
       "'HEtwHeTfCdv1jfDNLBESJCAhSFRUumAP25ExbuAtKQm9'"
      ]
     },
     "execution_count": 147,
     "metadata": {},
     "output_type": "execute_result"
    }
   ],
   "source": [
    "alice.public_key"
   ]
  },
  {
   "cell_type": "code",
   "execution_count": 148,
   "metadata": {},
   "outputs": [
    {
     "data": {
      "text/plain": [
       "True"
      ]
     },
     "execution_count": 148,
     "metadata": {},
     "output_type": "execute_result"
    }
   ],
   "source": [
    "# Alice is the owner\n",
    "creation_tx['outputs'][0]['public_keys'][0] == alice.public_key"
   ]
  },
  {
   "cell_type": "code",
   "execution_count": 150,
   "metadata": {},
   "outputs": [
    {
     "data": {
      "text/plain": [
       "[{'data': {'sida': {'cuanto_sida': ['mu', 'cho'],\n",
       "    'identifier': 'pamtumaca',\n",
       "    'manufacturer': 'bkfab'}},\n",
       "  'id': 'f4efbda2a593e47bda56f40ed3c6ba671e36c186eaf6f728159178cf0dbe8586'}]"
      ]
     },
     "execution_count": 150,
     "metadata": {},
     "output_type": "execute_result"
    }
   ],
   "source": [
    "# Buscar bicis por serial number:\n",
    "assets = bdb.assets.get(search=\"pamtumaca\")\n",
    "assets"
   ]
  },
  {
   "cell_type": "markdown",
   "metadata": {},
   "source": [
    "## Transferencia de Assets"
   ]
  },
  {
   "cell_type": "code",
   "execution_count": 179,
   "metadata": {},
   "outputs": [
    {
     "data": {
      "text/plain": [
       "'f4efbda2a593e47bda56f40ed3c6ba671e36c186eaf6f728159178cf0dbe8586'"
      ]
     },
     "execution_count": 179,
     "metadata": {},
     "output_type": "execute_result"
    }
   ],
   "source": [
    "fulfilled_creation_tx['id']"
   ]
  },
  {
   "cell_type": "code",
   "execution_count": 180,
   "metadata": {},
   "outputs": [
    {
     "data": {
      "text/plain": [
       "'f4efbda2a593e47bda56f40ed3c6ba671e36c186eaf6f728159178cf0dbe8586'"
      ]
     },
     "execution_count": 180,
     "metadata": {},
     "output_type": "execute_result"
    }
   ],
   "source": [
    "# Alice le quiere enviar la bici con id\n",
    "bici = assets[0]\n",
    "bici['id']"
   ]
  },
  {
   "cell_type": "code",
   "execution_count": 174,
   "metadata": {},
   "outputs": [
    {
     "data": {
      "text/plain": [
       "True"
      ]
     },
     "execution_count": 174,
     "metadata": {},
     "output_type": "execute_result"
    }
   ],
   "source": [
    "# Notar que la bici es de alice\n",
    "creation_tx = bdb.transactions.retrieve(bici['id'])\n",
    "creation_tx['outputs'][0]['public_keys'][0] == alice.public_key"
   ]
  },
  {
   "cell_type": "code",
   "execution_count": 181,
   "metadata": {},
   "outputs": [],
   "source": [
    "transfer_asset = {\n",
    "    'id': bici['id'],\n",
    "}"
   ]
  },
  {
   "cell_type": "code",
   "execution_count": 195,
   "metadata": {},
   "outputs": [],
   "source": [
    "output_index = 0 # selecion de la opciones de output\n",
    "output = creation_tx['outputs'][output_index]\n",
    "transfer_input = {\n",
    "    'fulfillment': output['condition']['details'],\n",
    "    'fulfills': {\n",
    "        'output_index': output_index,\n",
    "        'transaction_id': creation_tx['id'],\n",
    "    },\n",
    "    'owners_before': output['public_keys'],\n",
    "}\n",
    "\n",
    "prepared_transfer_tx = bdb.transactions.prepare(\n",
    "    operation='TRANSFER',\n",
    "    asset=transfer_asset,\n",
    "    inputs=transfer_input,\n",
    "    recipients=alice_secret.public_key,\n",
    ")\n",
    "\n",
    "fulfilled_transfer_tx = bdb.transactions.fulfill(\n",
    "    prepared_transfer_tx,\n",
    "    private_keys=alice.private_key,\n",
    ")"
   ]
  },
  {
   "cell_type": "code",
   "execution_count": 196,
   "metadata": {},
   "outputs": [
    {
     "ename": "BadRequest",
     "evalue": "(400, '{\\n  \"message\": \"Invalid transaction (DoubleSpend): input `f4efbda2a593e47bda56f40ed3c6ba671e36c186eaf6f728159178cf0dbe8586` was already spent\", \\n  \"status\": 400\\n}\\n', {'message': 'Invalid transaction (DoubleSpend): input `f4efbda2a593e47bda56f40ed3c6ba671e36c186eaf6f728159178cf0dbe8586` was already spent', 'status': 400})",
     "output_type": "error",
     "traceback": [
      "\u001b[0;31m---------------------------------------------------------------------------\u001b[0m",
      "\u001b[0;31mBadRequest\u001b[0m                                Traceback (most recent call last)",
      "\u001b[0;32m<ipython-input-196-e21a73d70cb8>\u001b[0m in \u001b[0;36m<module>\u001b[0;34m()\u001b[0m\n\u001b[0;32m----> 1\u001b[0;31m \u001b[0msent_transfer_tx\u001b[0m \u001b[0;34m=\u001b[0m \u001b[0mbdb\u001b[0m\u001b[0;34m.\u001b[0m\u001b[0mtransactions\u001b[0m\u001b[0;34m.\u001b[0m\u001b[0msend\u001b[0m\u001b[0;34m(\u001b[0m\u001b[0mfulfilled_transfer_tx\u001b[0m\u001b[0;34m)\u001b[0m\u001b[0;34m\u001b[0m\u001b[0m\n\u001b[0m",
      "\u001b[0;32m/usr/local/lib/python3.6/site-packages/bigchaindb_driver/driver.py\u001b[0m in \u001b[0;36msend\u001b[0;34m(self, transaction, headers)\u001b[0m\n\u001b[1;32m    317\u001b[0m         \"\"\"\n\u001b[1;32m    318\u001b[0m         return self.transport.forward_request(\n\u001b[0;32m--> 319\u001b[0;31m             method='POST', path=self.path, json=transaction, headers=headers)\n\u001b[0m\u001b[1;32m    320\u001b[0m \u001b[0;34m\u001b[0m\u001b[0m\n\u001b[1;32m    321\u001b[0m     \u001b[0;32mdef\u001b[0m \u001b[0mretrieve\u001b[0m\u001b[0;34m(\u001b[0m\u001b[0mself\u001b[0m\u001b[0;34m,\u001b[0m \u001b[0mtxid\u001b[0m\u001b[0;34m,\u001b[0m \u001b[0mheaders\u001b[0m\u001b[0;34m=\u001b[0m\u001b[0;32mNone\u001b[0m\u001b[0;34m)\u001b[0m\u001b[0;34m:\u001b[0m\u001b[0;34m\u001b[0m\u001b[0m\n",
      "\u001b[0;32m/usr/local/lib/python3.6/site-packages/bigchaindb_driver/transport.py\u001b[0m in \u001b[0;36mforward_request\u001b[0;34m(self, method, path, json, params, headers)\u001b[0m\n\u001b[1;32m     56\u001b[0m             \u001b[0mparams\u001b[0m\u001b[0;34m=\u001b[0m\u001b[0mparams\u001b[0m\u001b[0;34m,\u001b[0m\u001b[0;34m\u001b[0m\u001b[0m\n\u001b[1;32m     57\u001b[0m             \u001b[0mjson\u001b[0m\u001b[0;34m=\u001b[0m\u001b[0mjson\u001b[0m\u001b[0;34m,\u001b[0m\u001b[0;34m\u001b[0m\u001b[0m\n\u001b[0;32m---> 58\u001b[0;31m             \u001b[0mheaders\u001b[0m\u001b[0;34m=\u001b[0m\u001b[0mheaders\u001b[0m\u001b[0;34m,\u001b[0m\u001b[0;34m\u001b[0m\u001b[0m\n\u001b[0m\u001b[1;32m     59\u001b[0m         )\n\u001b[1;32m     60\u001b[0m         \u001b[0;32mreturn\u001b[0m \u001b[0mresponse\u001b[0m\u001b[0;34m.\u001b[0m\u001b[0mdata\u001b[0m\u001b[0;34m\u001b[0m\u001b[0m\n",
      "\u001b[0;32m/usr/local/lib/python3.6/site-packages/bigchaindb_driver/connection.py\u001b[0m in \u001b[0;36mrequest\u001b[0;34m(self, method, path, json, params, headers, **kwargs)\u001b[0m\n\u001b[1;32m     55\u001b[0m         \u001b[0;32mif\u001b[0m \u001b[0;32mnot\u001b[0m \u001b[0;34m(\u001b[0m\u001b[0;36m200\u001b[0m \u001b[0;34m<=\u001b[0m \u001b[0mresponse\u001b[0m\u001b[0;34m.\u001b[0m\u001b[0mstatus_code\u001b[0m \u001b[0;34m<\u001b[0m \u001b[0;36m300\u001b[0m\u001b[0;34m)\u001b[0m\u001b[0;34m:\u001b[0m\u001b[0;34m\u001b[0m\u001b[0m\n\u001b[1;32m     56\u001b[0m             \u001b[0mexc_cls\u001b[0m \u001b[0;34m=\u001b[0m \u001b[0mHTTP_EXCEPTIONS\u001b[0m\u001b[0;34m.\u001b[0m\u001b[0mget\u001b[0m\u001b[0;34m(\u001b[0m\u001b[0mresponse\u001b[0m\u001b[0;34m.\u001b[0m\u001b[0mstatus_code\u001b[0m\u001b[0;34m,\u001b[0m \u001b[0mTransportError\u001b[0m\u001b[0;34m)\u001b[0m\u001b[0;34m\u001b[0m\u001b[0m\n\u001b[0;32m---> 57\u001b[0;31m             \u001b[0;32mraise\u001b[0m \u001b[0mexc_cls\u001b[0m\u001b[0;34m(\u001b[0m\u001b[0mresponse\u001b[0m\u001b[0;34m.\u001b[0m\u001b[0mstatus_code\u001b[0m\u001b[0;34m,\u001b[0m \u001b[0mtext\u001b[0m\u001b[0;34m,\u001b[0m \u001b[0mjson\u001b[0m\u001b[0;34m)\u001b[0m\u001b[0;34m\u001b[0m\u001b[0m\n\u001b[0m\u001b[1;32m     58\u001b[0m         \u001b[0mdata\u001b[0m \u001b[0;34m=\u001b[0m \u001b[0mjson\u001b[0m \u001b[0;32mif\u001b[0m \u001b[0mjson\u001b[0m \u001b[0;32mis\u001b[0m \u001b[0;32mnot\u001b[0m \u001b[0;32mNone\u001b[0m \u001b[0;32melse\u001b[0m \u001b[0mtext\u001b[0m\u001b[0;34m\u001b[0m\u001b[0m\n\u001b[1;32m     59\u001b[0m         \u001b[0;32mreturn\u001b[0m \u001b[0mHttpResponse\u001b[0m\u001b[0;34m(\u001b[0m\u001b[0mresponse\u001b[0m\u001b[0;34m.\u001b[0m\u001b[0mstatus_code\u001b[0m\u001b[0;34m,\u001b[0m \u001b[0mresponse\u001b[0m\u001b[0;34m.\u001b[0m\u001b[0mheaders\u001b[0m\u001b[0;34m,\u001b[0m \u001b[0mdata\u001b[0m\u001b[0;34m)\u001b[0m\u001b[0;34m\u001b[0m\u001b[0m\n",
      "\u001b[0;31mBadRequest\u001b[0m: (400, '{\\n  \"message\": \"Invalid transaction (DoubleSpend): input `f4efbda2a593e47bda56f40ed3c6ba671e36c186eaf6f728159178cf0dbe8586` was already spent\", \\n  \"status\": 400\\n}\\n', {'message': 'Invalid transaction (DoubleSpend): input `f4efbda2a593e47bda56f40ed3c6ba671e36c186eaf6f728159178cf0dbe8586` was already spent', 'status': 400})"
     ]
    }
   ],
   "source": [
    "sent_transfer_tx = bdb.transactions.send(fulfilled_transfer_tx)"
   ]
  },
  {
   "cell_type": "code",
   "execution_count": 209,
   "metadata": {},
   "outputs": [
    {
     "data": {
      "text/plain": [
       "{'asset': {'id': 'f4efbda2a593e47bda56f40ed3c6ba671e36c186eaf6f728159178cf0dbe8586'},\n",
       " 'id': '5cfba500c357bef3243e694e4b5afa3c104f4402c86b608df4b8cf5e074185a4',\n",
       " 'inputs': [{'fulfillment': 'pGSAIPFKQ_qXpUSijT_z7M46BYUx0t_zUD7pm4j_1lqBMxbcgUA1hBW_JNLF8AcsO6O7Yv72ZnocyVIh8nQvwDanWnRKE-rYEvNeF7IOVtmhLIEKovx-pTlOnusatG_-xbE6n1gH',\n",
       "   'fulfills': {'output_index': 0,\n",
       "    'transaction_id': 'f4efbda2a593e47bda56f40ed3c6ba671e36c186eaf6f728159178cf0dbe8586'},\n",
       "   'owners_before': ['HEtwHeTfCdv1jfDNLBESJCAhSFRUumAP25ExbuAtKQm9']}],\n",
       " 'metadata': None,\n",
       " 'operation': 'TRANSFER',\n",
       " 'outputs': [{'amount': '1',\n",
       "   'condition': {'details': {'public_key': 'DcpriYX58N1NqyXBkA7WpsV7FKMwqwhvcdmuSGEQxKYW',\n",
       "     'type': 'ed25519-sha-256'},\n",
       "    'uri': 'ni:///sha-256;pmwlr6fe-TdVjHEDBlEGwa90VLXvx8isHNevqv_Q2cI?fpt=ed25519-sha-256&cost=131072'},\n",
       "   'public_keys': ['DcpriYX58N1NqyXBkA7WpsV7FKMwqwhvcdmuSGEQxKYW']}],\n",
       " 'version': '1.0'}"
      ]
     },
     "execution_count": 209,
     "metadata": {},
     "output_type": "execute_result"
    }
   ],
   "source": [
    "sent_transfer_tx"
   ]
  },
  {
   "cell_type": "code",
   "execution_count": 211,
   "metadata": {},
   "outputs": [
    {
     "data": {
      "text/plain": [
       "{'status': 'valid'}"
      ]
     },
     "execution_count": 211,
     "metadata": {},
     "output_type": "execute_result"
    }
   ],
   "source": [
    "bdb.transactions.status('5cfba500c357bef3243e694e4b5afa3c104f4402c86b608df4b8cf5e074185a4')"
   ]
  },
  {
   "cell_type": "code",
   "execution_count": 198,
   "metadata": {},
   "outputs": [
    {
     "data": {
      "text/plain": [
       "'DcpriYX58N1NqyXBkA7WpsV7FKMwqwhvcdmuSGEQxKYW'"
      ]
     },
     "execution_count": 198,
     "metadata": {},
     "output_type": "execute_result"
    }
   ],
   "source": [
    "bob.public_key"
   ]
  },
  {
   "cell_type": "code",
   "execution_count": 218,
   "metadata": {},
   "outputs": [],
   "source": [
    "search = bdb.assets.get(search='pamtumaca')"
   ]
  },
  {
   "cell_type": "code",
   "execution_count": 220,
   "metadata": {},
   "outputs": [
    {
     "data": {
      "text/plain": [
       "[{'asset': {'data': {'sida': {'cuanto_sida': ['mu', 'cho'],\n",
       "     'identifier': 'pamtumaca',\n",
       "     'manufacturer': 'bkfab'}}},\n",
       "  'id': 'f4efbda2a593e47bda56f40ed3c6ba671e36c186eaf6f728159178cf0dbe8586',\n",
       "  'inputs': [{'fulfillment': 'pGSAIPFKQ_qXpUSijT_z7M46BYUx0t_zUD7pm4j_1lqBMxbcgUAybT0Fx1YVm_GyqxO0WtpXn1oxDX66WX3IQzHHPoDV9suGGaAOoTyHFWj96t7UAIpDswBGsHmvvKoz1D2I1XAO',\n",
       "    'fulfills': None,\n",
       "    'owners_before': ['HEtwHeTfCdv1jfDNLBESJCAhSFRUumAP25ExbuAtKQm9']}],\n",
       "  'metadata': None,\n",
       "  'operation': 'CREATE',\n",
       "  'outputs': [{'amount': '1',\n",
       "    'condition': {'details': {'public_key': 'HEtwHeTfCdv1jfDNLBESJCAhSFRUumAP25ExbuAtKQm9',\n",
       "      'type': 'ed25519-sha-256'},\n",
       "     'uri': 'ni:///sha-256;LikjEvHldymOvitUiFkBNEWwjkc6ygt4OaO2b5tlEtM?fpt=ed25519-sha-256&cost=131072'},\n",
       "    'public_keys': ['HEtwHeTfCdv1jfDNLBESJCAhSFRUumAP25ExbuAtKQm9']}],\n",
       "  'version': '1.0'},\n",
       " {'asset': {'id': 'f4efbda2a593e47bda56f40ed3c6ba671e36c186eaf6f728159178cf0dbe8586'},\n",
       "  'id': '5cfba500c357bef3243e694e4b5afa3c104f4402c86b608df4b8cf5e074185a4',\n",
       "  'inputs': [{'fulfillment': 'pGSAIPFKQ_qXpUSijT_z7M46BYUx0t_zUD7pm4j_1lqBMxbcgUA1hBW_JNLF8AcsO6O7Yv72ZnocyVIh8nQvwDanWnRKE-rYEvNeF7IOVtmhLIEKovx-pTlOnusatG_-xbE6n1gH',\n",
       "    'fulfills': {'output_index': 0,\n",
       "     'transaction_id': 'f4efbda2a593e47bda56f40ed3c6ba671e36c186eaf6f728159178cf0dbe8586'},\n",
       "    'owners_before': ['HEtwHeTfCdv1jfDNLBESJCAhSFRUumAP25ExbuAtKQm9']}],\n",
       "  'metadata': None,\n",
       "  'operation': 'TRANSFER',\n",
       "  'outputs': [{'amount': '1',\n",
       "    'condition': {'details': {'public_key': 'DcpriYX58N1NqyXBkA7WpsV7FKMwqwhvcdmuSGEQxKYW',\n",
       "      'type': 'ed25519-sha-256'},\n",
       "     'uri': 'ni:///sha-256;pmwlr6fe-TdVjHEDBlEGwa90VLXvx8isHNevqv_Q2cI?fpt=ed25519-sha-256&cost=131072'},\n",
       "    'public_keys': ['DcpriYX58N1NqyXBkA7WpsV7FKMwqwhvcdmuSGEQxKYW']}],\n",
       "  'version': '1.0'}]"
      ]
     },
     "execution_count": 220,
     "metadata": {},
     "output_type": "execute_result"
    }
   ],
   "source": [
    "bdb.transactions.get(asset_id=\"f4efbda2a593e47bda56f40ed3c6ba671e36c186eaf6f728159178cf0dbe8586\")"
   ]
  },
  {
   "cell_type": "code",
   "execution_count": 212,
   "metadata": {},
   "outputs": [
    {
     "data": {
      "text/plain": [
       "{'asset': {'id': 'f4efbda2a593e47bda56f40ed3c6ba671e36c186eaf6f728159178cf0dbe8586'},\n",
       " 'id': '5cfba500c357bef3243e694e4b5afa3c104f4402c86b608df4b8cf5e074185a4',\n",
       " 'inputs': [{'fulfillment': 'pGSAIPFKQ_qXpUSijT_z7M46BYUx0t_zUD7pm4j_1lqBMxbcgUA1hBW_JNLF8AcsO6O7Yv72ZnocyVIh8nQvwDanWnRKE-rYEvNeF7IOVtmhLIEKovx-pTlOnusatG_-xbE6n1gH',\n",
       "   'fulfills': {'output_index': 0,\n",
       "    'transaction_id': 'f4efbda2a593e47bda56f40ed3c6ba671e36c186eaf6f728159178cf0dbe8586'},\n",
       "   'owners_before': ['HEtwHeTfCdv1jfDNLBESJCAhSFRUumAP25ExbuAtKQm9']}],\n",
       " 'metadata': None,\n",
       " 'operation': 'TRANSFER',\n",
       " 'outputs': [{'amount': '1',\n",
       "   'condition': {'details': {'public_key': 'DcpriYX58N1NqyXBkA7WpsV7FKMwqwhvcdmuSGEQxKYW',\n",
       "     'type': 'ed25519-sha-256'},\n",
       "    'uri': 'ni:///sha-256;pmwlr6fe-TdVjHEDBlEGwa90VLXvx8isHNevqv_Q2cI?fpt=ed25519-sha-256&cost=131072'},\n",
       "   'public_keys': ['DcpriYX58N1NqyXBkA7WpsV7FKMwqwhvcdmuSGEQxKYW']}],\n",
       " 'version': '1.0'}"
      ]
     },
     "execution_count": 212,
     "metadata": {},
     "output_type": "execute_result"
    }
   ],
   "source": [
    "bdb.transactions.retrieve('5cfba500c357bef3243e694e4b5afa3c104f4402c86b608df4b8cf5e074185a4')"
   ]
  },
  {
   "cell_type": "code",
   "execution_count": 207,
   "metadata": {},
   "outputs": [
    {
     "data": {
      "text/plain": [
       "'HEtwHeTfCdv1jfDNLBESJCAhSFRUumAP25ExbuAtKQm9'"
      ]
     },
     "execution_count": 207,
     "metadata": {},
     "output_type": "execute_result"
    }
   ],
   "source": [
    "alice.public_key"
   ]
  },
  {
   "cell_type": "code",
   "execution_count": 203,
   "metadata": {},
   "outputs": [
    {
     "data": {
      "text/plain": [
       "'DcpriYX58N1NqyXBkA7WpsV7FKMwqwhvcdmuSGEQxKYW'"
      ]
     },
     "execution_count": 203,
     "metadata": {},
     "output_type": "execute_result"
    }
   ],
   "source": [
    "bob.public_key"
   ]
  },
  {
   "cell_type": "code",
   "execution_count": null,
   "metadata": {
    "collapsed": true
   },
   "outputs": [],
   "source": []
  }
 ],
 "metadata": {
  "kernelspec": {
   "display_name": "Python 3",
   "language": "python",
   "name": "python3"
  },
  "language_info": {
   "codemirror_mode": {
    "name": "ipython",
    "version": 3
   },
   "file_extension": ".py",
   "mimetype": "text/x-python",
   "name": "python",
   "nbconvert_exporter": "python",
   "pygments_lexer": "ipython3",
   "version": "3.6.2"
  }
 },
 "nbformat": 4,
 "nbformat_minor": 2
}
